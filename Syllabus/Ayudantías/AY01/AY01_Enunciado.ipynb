{
 "cells": [
  {
   "cell_type": "markdown",
   "metadata": {},
   "source": [
    "# Ayudantia 01: Estructura de datos *built-ins*\n",
    "\n",
    "Ayudantia por Alonso Gómez, Bárbara Irarrázaval, Vicente Vega"
   ]
  },
  {
   "cell_type": "markdown",
   "metadata": {},
   "source": [
    "## Introducción\n",
    "\n",
    "Como ya habrán leído de los contenidos, las estructura de datos nos permiten almacenar información (*strings*, *ints*, *floats*, objetos, etc.) con el fin de poder utilizarla posteriormente. Además, como aprendieron e incluso aplicaron en \"*Intro a la programeichon*\", los datos guardados pueden ser leídos, comparados, alterados, etc; sin embargo en este curso usaron mayoritariamente listas, y estás **NO son siempre las mejores estructuras**.\n",
    "\n",
    "Claro, las listas son simples de usar y tienen muchas funcionalidades claves para trabajar con información. Sin embargo, **existen otras estructuras que, en muchos casos, terminan siendo mejor para el fines específicos que queremos trabajar**. Puede que se estén diciendo a ustedes mismos: \"*Ya me leí la materia, y me dí cuenta que las estructuras que me están mostrando ahora son mucho más limitadas que las listas, y me imagino que puedo ingeniármelas para poder hacer lo mismo que proponen todas estas nuevas estructuras con las Good ol´ listas..... ¿Cuál es el propósito de utilizar estas si simplemente son más limitadas?*\"\n",
    "\n",
    "Para responder esta pregunta utilizaremos una analogía. ¿Dónde prefieren comprar ropa, en el supermercado o en una tienda de ropa? A pesar de que en un supermercado podemos encontrar ropa, **lo más probable es no encontremos exactamente lo que buscamos**. No siempre podemos depender del supermercado para obtener todo lo que queremos. Lo mismo sucede con las listas. Estas, al ser tan generales, pueden ocasionar que el acceder a la información sea mucho más complejo y/o lento que si utilizaran otras estructuras.\n",
    "\n",
    "Es clave que entiendan que la elección de cuál estructura utilizar va más allá que eficiencia en código, **pues la elección correcta de estructuras permite que un código sea más legible**. Las distintas estructuras de datos, además de estar programadas de manera diferente, pueden tener un significado distinto; por ejemplo, si ustedes entregan un código a una persona, y esta ve que utilizaron una cola para su estructura de datos, entenderá inmediatamente que el orden de los objetos ahí guardados debe considerarse para extraerlos. **Con esto, el lector del código puede hacerse una idea de qué planean hacer en las siguientes líneas, haciendo que el proceso de trabajo se agilice**.\n",
    "\n",
    "Sabiendo lo anterior, los invitamos a elegir una estructura de datos para cada uno de los siguientes casos. Luego, pueden contrastarla con la respuesta entregada en el cuaderno `AY01_solucion`, que se encuentra en esta misma carpeta. En caso de encontrar una respuesta que no los deje satisfecho, o si creen que la estructura más adecuada para alguno de los ejercicios no es la que se encuentra en la solución, no duden en abrir una [*issue*](https://github.com/IIC2233/syllabus/issues/new) en el foro del curso. Señalen el número del ejercicio en cuestión, la estructura que creen es más adecuada (o la duda de por qué se seleccionó cierta estructura) y la razón por la que creen que esta estructura es mejor que la elegida."
   ]
  },
  {
   "cell_type": "markdown",
   "metadata": {},
   "source": [
    "Para ayudarte, aquí hay un **resumen de las estructuras** que estudiaste:\n",
    "* Tuplas: ordenada e inmutable.\n",
    " * *Named tuples*: se puede acceder a atributos con `tupla.atributo`.\n",
    "* Listas: ordenada y mutable.\n",
    "* *Stack*: *Last-in, First-out*.\n",
    " * Se simulan con listas.\n",
    " * Se colocan elementos con `strack.append(valor)`.\n",
    " * Se sacan elementos con `stack.pop()`.\n",
    "* Cola: *First-in, First-out*.\n",
    " * Se simula con `deque`, de la librería `collections`.\n",
    " * Se colocan elementos con `cola.append(valor)`.\n",
    " * Se sacan elementos con `cola.popleft()`.\n",
    "* Diferencias entre listas y *deque*:\n",
    " * Es más rápido buscar elementos cualquiera en una lista.\n",
    " * Es más rápido sacar elementos de *deque*.\n",
    "* Diccionarios: ordenada y mutable.\n",
    " * Relación llave-valor.\n",
    " * Llaves deben ser únicas y hasheables.\n",
    " * `defaultdict`: asigna valores preestablecidos.\n",
    "* *Sets*: no ordenados, mutables y no hasheables. \n",
    " * Permiten hacer operaciones de conjuntos y no tienen elementos repetidos.\n",
    "* `args` y `kwargs`: usados para cuando la cantidad de argumentos es variable."
   ]
  },
  {
   "cell_type": "markdown",
   "metadata": {},
   "source": [
    "## Ejercicio 1\n",
    "La famosa agencia de viajes DCCocha está organizando un *giveaway* de un viaje todo pagado desde Santiago de Chile a Roma, Italia, desde su cuenta de Instagram. Para poder tener posibilidades de ganar, el usuario deberá cumplir los siguientes requisitos:\n",
    " * Comentar la publicación (solo se cuenta 1 comentario, si comenta más veces tiene las mismas posibilidades de ganar)\n",
    " * Seguir la cuenta de DCCocha.\n",
    "\n",
    "Ahora debes buscar el ganador, teniendo en cuenta que cumpla ambos requisitos.\n",
    "Para ello, tienes el archivo `comentarios_giveaway.txt` con los usuarios que comentaron la publicación y el archivo `seguidores.txt` con los seguidores de la cuenta. Ambos archivos tienen  algunos usuarios repetidos, por lo que debes filtrarlos."
   ]
  },
  {
   "cell_type": "code",
   "execution_count": null,
   "metadata": {},
   "outputs": [],
   "source": [
    "# Primero tenemos que cargar los archivos correspondientes, para tener la información\n",
    "with open(\"comentarios_giveaway.txt\", \"r\") as archivo_comentarios:\n",
    "    # Creamos una lista con cada usuario que comentó la publicación\n",
    "    lista_concursantes_repetidos = []\n",
    "    for persona in archivo_comentarios.readlines():\n",
    "        lista_concursantes_repetidos.append(persona.strip(\"\\n\"))\n",
    "\n",
    "with open(\"seguidores.txt\", \"r\") as archivo_seguidores:\n",
    "    # Creamos una lista con cada usuario que sigue la cuenta\n",
    "    lista_seguidores_repetidos = []\n",
    "    for persona in archivo_seguidores.readlines():\n",
    "        lista_seguidores_repetidos.append(persona.strip(\"\\n\"))\n",
    "        \n",
    "# Ahora tenemos dos listas, pero como puedes ver, tienen usuarios repetidos. \n",
    "# Debes buscar una estructura que te permita eliminar duplicados.\n",
    "concursantes_que_comentaron = None\n",
    "seguidores_sin_repetir = None\n",
    "\n",
    "# Además, debes buscar quienes cumplen ambos requisitos:\n",
    "concursantes_que_cumplen_requisitos = None\n",
    "\n",
    "# Por último, busca al ganador del concurso:\n",
    "ganador = None\n",
    "print(f\"¡¡El ganador es {ganador}!!\")"
   ]
  },
  {
   "cell_type": "markdown",
   "metadata": {},
   "source": [
    "## Ejercicio 2\n",
    "\n",
    "Se te ha entregado el archivo `peliculas.txt`, el cual contiene las películas más influyentes y vanguardistas del cine contemporáneo. Como tributo, has decidido crear una mini base de datos. Sin embargo, deberás guardar cada película por separado en una estructura no modificable, en la cual se puede acceder directamente a su nombre de película, género, año de lanzamiento y rating IMDb.\n",
    "\n",
    "Antes de crear la base de datos trata de almacenar estos datos en aquella estructura de datos.\n",
    "\n",
    "Las caracteristicas en el archivo `peliculas.txt` se encuentran escritas de la siguiente manera:\n",
    "\n",
    "`Nombre,Año de lanzamiento,Genero, Rating IMDb.`"
   ]
  },
  {
   "cell_type": "code",
   "execution_count": null,
   "metadata": {},
   "outputs": [],
   "source": []
  },
  {
   "cell_type": "markdown",
   "metadata": {},
   "source": [
    "## Ejercicio 3\n",
    "\n",
    "Crea una base de datos que contenga las películas entregadas del ejercicio anterior. Si uno entrega el nombre de la película, esta debe entregar una tupla con con el año de lanzamiento, genero y rating IMDb en una tupla. Además, se ha dado cuenta que la base de datos original tiene datos repetidos, asegurate de que la base de datos no contenga información repetida."
   ]
  },
  {
   "cell_type": "code",
   "execution_count": null,
   "metadata": {},
   "outputs": [],
   "source": []
  },
  {
   "cell_type": "markdown",
   "metadata": {},
   "source": [
    "## Ejercicio 4\n",
    "Te acaban de mandar a tí a comprar cervezas a una tienda llamada CornerSchop. Como cualquier persona lo haría, te enviaron las cosas que tienes que comprar en un archivo de extensión TXT (`cervezas.txt`). Tú, fanático de Python, decides cargar estos datos en una estructura que puedas reordenar, porque te gusta tener tus cervezas en orden alfabético. Además, te pidieron que los sorprendieras con dos cervezas que no hayan probado."
   ]
  },
  {
   "cell_type": "code",
   "execution_count": null,
   "metadata": {},
   "outputs": [],
   "source": []
  },
  {
   "cell_type": "markdown",
   "metadata": {},
   "source": [
    "## Ejercicio 5\n",
    "Dado los diversos problema que nos ha traido el coronavirus , el DCC decide hacer una Pizzaton Vitual por Habbo, ¡y te ponen a TÍ al mando! Tú sabes que la demanda de pizza será muy alta, por lo que decides modelar la fila de la pizza para que no haya problemas. Recuerda que guardaste a los participantes en el archivo `participantes.txt` y deseas hacer lo siguiente con el:\n",
    " 1. Ver cuanta gente hay en la fila.\n",
    " 2. Ver quien es el primero a quien le debes dar pizza.\n",
    " 3. Darle pizza para que se vaya de la fila.\n",
    " 4. Simular que llegan dos personas más.\n",
    " 5. Ver el largo actual de la fila.\n"
   ]
  },
  {
   "cell_type": "code",
   "execution_count": null,
   "metadata": {},
   "outputs": [],
   "source": []
  },
  {
   "cell_type": "markdown",
   "metadata": {},
   "source": [
    "## Ejercicio 6\n",
    "Una importante cadena de supermercados quiere hacer una página web para que sus clientes puedan comprar online y buscar la disponibilidad de los productos que más le gustan. El mayor problema es que su bodega está muy desordenada, por lo que el inventario no es muy claro. Se tiene una lista con todos los artículos de la bodega, la cual fue almacenada en `inventario_rapido.txt`. Tu deber es buscar una forma de almacenar estos datos, para que cuando un cliente busque un producto, se le pueda decir cuántas unidades hay en *stock* y si está disponible."
   ]
  },
  {
   "cell_type": "code",
   "execution_count": null,
   "metadata": {},
   "outputs": [],
   "source": [
    "# Primero cargamos los datos y hacemos una lista con cada uno de los artículos\n",
    "with open(\"inventario_rapido.txt\", \"r\") as archivo_inventario:\n",
    "    elementos_en_bodega = []\n",
    "    for articulo in archivo_inventario.readlines():\n",
    "        elementos_en_bodega.append(articulo.strip(\"\\n\"))\n",
    "\n",
    "# Aquí debes llenar con la estructura que consideres conveniente:\n",
    "bodega = None\n",
    "\n",
    "# Ahora, simula un cliente  que quiere consultar por el stock de \"oreos\":\n",
    "\n",
    "# Y, por último, simula un cliente  que quiere consultar por el stock de \"arroz\":"
   ]
  }
 ],
 "metadata": {
  "kernelspec": {
   "display_name": "Python 3",
   "language": "python",
   "name": "python3"
  },
  "language_info": {
   "codemirror_mode": {
    "name": "ipython",
    "version": 3
   },
   "file_extension": ".py",
   "mimetype": "text/x-python",
   "name": "python",
   "nbconvert_exporter": "python",
   "pygments_lexer": "ipython3",
   "version": "3.6.9"
  }
 },
 "nbformat": 4,
 "nbformat_minor": 2
}
