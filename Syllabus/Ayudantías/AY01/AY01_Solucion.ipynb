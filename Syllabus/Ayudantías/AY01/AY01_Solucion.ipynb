{
 "cells": [
  {
   "cell_type": "markdown",
   "metadata": {},
   "source": [
    "# Solución Ayudantia 01: Estructura de datos (Built-ins)\n",
    "\n",
    "Ayudantia por Alonso Gómez, Barbara Irarrazaval, Vicente Vega\n"
   ]
  },
  {
   "cell_type": "markdown",
   "metadata": {},
   "source": [
    "## Advertencia\n",
    "\n",
    "Si no has leído el cuaderno `AY01_Enunciado`, lo que viene a continuación no tendrá mucho sentido, por lo que te recomendamos leer ese archivo y volver a este luego :D"
   ]
  },
  {
   "cell_type": "markdown",
   "metadata": {},
   "source": [
    "## Ejercicio 1\n",
    "En este caso, la estructura elegida es ***SETS***, ya que estos nos permiten eliminar elementos repetidos y hacer unión e intersección de conjuntos.\n",
    "En primer lugar, cargamos ambos archivos y buscamos cada lista. Para eliminar los usuarios repetidos, convertimos estas listas en sets.\n",
    "\n"
   ]
  },
  {
   "cell_type": "code",
   "execution_count": null,
   "metadata": {},
   "outputs": [],
   "source": [
    "# Primero tenemos que cargar los archivos correspondientes, para tener la información\n",
    "with open(\"comentarios_giveaway.txt\", \"r\") as archivo_comentarios:\n",
    "    # Creamos una lista con cada usuario que comentó la publicación\n",
    "    lista_concursantes_repetidos = []\n",
    "    for persona in archivo_comentarios.readlines():\n",
    "        lista_concursantes_repetidos.append(persona.strip(\"\\n\"))\n",
    "    # Para eliminar duplicados, convertimos la lista a un set\n",
    "    concursantes_que_comentaron = set(lista_concursantes_repetidos)\n",
    "\n",
    "with open(\"seguidores.txt\", \"r\") as archivo_seguidores:\n",
    "    # Creamos una lista con cada usuario que sigue la cuenta\n",
    "    lista_seguidores_repetidos = []\n",
    "    for persona in archivo_seguidores.readlines():\n",
    "        lista_seguidores_repetidos.append(persona.strip(\"\\n\"))\n",
    "    # Para eliminar duplicados, convertimos la lista a un set\n",
    "    seguidores_no_repetidos = set(lista_seguidores_repetidos)\n",
    "\n",
    "# Puedes verificarlo descomentando las siguientes lineas:\n",
    "# print(\"Esta era la lista de usuarios que comentaron: \\n\", lista_concursantes_repetidos)\n",
    "# print(\"Este era el set de usuarios que comentaron: \\n\", concursantes_que_comentaron)\n",
    "# print(\"Esta era la lista de usuarios que seguian la cuenta: \\n\", lista_seguidores_repetidos)\n",
    "# print(\"Esta era el set de usuarios que seguian la cuenta: \\n\", seguidores_no_repetidos)"
   ]
  },
  {
   "cell_type": "markdown",
   "metadata": {},
   "source": [
    "Luego, para poder ver quien cumple con ambos requisitos (seguir a la página Y comentar la publicación), hacemos la intersección de los conjuntos con el comando `intersection`."
   ]
  },
  {
   "cell_type": "code",
   "execution_count": null,
   "metadata": {},
   "outputs": [],
   "source": [
    "# Para ver quienes cumplen con ambos requisitos, simplemente buscamos la interseccion de las listas\n",
    "concursantes_que_cumplen_requisitos = concursantes_que_comentaron.intersection(seguidores_no_repetidos)\n",
    "print(\"Los concursantes que cumplen los requisitos son: \", concursantes_que_cumplen_requisitos)"
   ]
  },
  {
   "cell_type": "markdown",
   "metadata": {},
   "source": [
    "Finalmente, tenemos que buscar el ganador al azar. Podemos aprovechar que los sets no son ordenados para elegir un ganador, convirtiendo el set en lista y eligiendo un elemento."
   ]
  },
  {
   "cell_type": "code",
   "execution_count": null,
   "metadata": {},
   "outputs": [],
   "source": [
    "# Finalmente, para ver el ganador del concurso, \n",
    "# podemos hacer random o convertir el set en lista y elegir un elemento al azar\n",
    "lista_concursantes_finales = list(concursantes_que_cumplen_requisitos)\n",
    "ganador = lista_concursantes_finales[0]\n",
    "print(f\"¡¡El ganador es {ganador}!!\")"
   ]
  },
  {
   "cell_type": "markdown",
   "metadata": {},
   "source": [
    "## Ejercicio 2\n",
    "\n",
    "La estructura elegida fue ***NAMED TUPLE***, ya que esta es la forma más eficiente de guardar un elemento con sus atributos correspondientes. Primero, acceder a estos es intuitivo y no requiere saber un orden arbitrario que no es parte del mismo codigo. Es muy probable que en \"*Intro*\" para guardar elementos lo hubieran hecho a traves de una lista de una forma similar a: `[nombre, lanzamiento, genero, rating]`. Para acceder al lanzamiento de la pelicula hubieran colocado `lista[1]` o al `N` correspondiente del atributo. Esto se hace a traves de un orden arbitrario que requiere memoria. \n",
    "\n",
    "En este caso no es terrible ya que son pocos atributos y además simple. ¿Pero qué hubiera ocurrido si nos hubieramos enfrentado a una elemento con 182 atributos? O, ¿si uno de los atributos fuera una estructura de datos?. En estos casos mantener la memoria suele costar e incluso uno se encuentra con cosas del estilo como \n",
    "`lista_generica[0][3][4][5][1][3]`. Hasta el mismo creador del codigo se desorienta al ver estas cosas."
   ]
  },
  {
   "cell_type": "code",
   "execution_count": null,
   "metadata": {},
   "outputs": [],
   "source": [
    "from collections import namedtuple\n",
    "\n",
    "Peliculas = namedtuple(\"Peliculas\", [\"nombre\", \"lanzamiento\", \"genero\", \"rating\"])\n",
    "\n",
    "with open(\"peliculas.txt\", encoding=\"utf-8\") as archivo:\n",
    "    # Solucion implementado args\n",
    "    for line in archivo:\n",
    "        info = line.strip().split(\",\")\n",
    "        i = (Peliculas(*info))\n",
    "        print(i.nombre, i.lanzamiento, i.genero, i.rating)\n",
    "    \n",
    "    # Solucion colocando dato por dato:\n",
    "    for line in archivo:\n",
    "        info = line.strip().split(\";\")\n",
    "        i = (Peliculas(*info))\n",
    "        print(i.nombre, i.lanzamiento, i.genero, i.rating)"
   ]
  },
  {
   "cell_type": "markdown",
   "metadata": {},
   "source": [
    "## Ejercicio 3\n",
    "Los **diccionarios** deben ser una de las mejores herramientas para guardar un conjunto de elementos. Estos nos permiten preguntar por el elemento que deseamos de forma directa y específica, sin tener que recurrir a un metodo de enumeración. De hecho, por esto mismo se llaman diccionarios. Una ventaja de los diccionarios es que nos permite eliminar elementos repetidos instantaneamente, gracias a su funcionamiento basado en llaves."
   ]
  },
  {
   "cell_type": "code",
   "execution_count": null,
   "metadata": {},
   "outputs": [],
   "source": [
    "from collections import namedtuple\n",
    "\n",
    "Peliculas = namedtuple(\"Peliculas\", [\"nombre\", \"lanzamiento\", \"genero\", \"rating\"])\n",
    "base_de_datos = {}\n",
    "\n",
    "with open(\"peliculas.txt\", encoding=\"utf-8\") as archivo:\n",
    "    for line in archivo:\n",
    "        info = line.strip().split(\",\")\n",
    "        pelicula = (Peliculas(*info))\n",
    "        base_de_datos[pelicula.nombre] = (pelicula.lanzamiento, pelicula.genero, pelicula.rating)\n",
    "    \n",
    "\n",
    "print(base_de_datos.items())"
   ]
  },
  {
   "cell_type": "markdown",
   "metadata": {},
   "source": [
    "## Ejercicio 4\n",
    "\n",
    "Para este ejercicio, la estructura de datos que se debía usar era **LISTA**. Esto porque se pedia una estructura mutable (`append`) y ordenada (`sort`)."
   ]
  },
  {
   "cell_type": "code",
   "execution_count": null,
   "metadata": {},
   "outputs": [],
   "source": [
    "# Primero creamos la variable cervezas para asignarle la lista de cervezas.\n",
    "cervezas = []\n",
    "# Abrimos el archivo\n",
    "with open(\"cervezas.txt\") as file:\n",
    "    # Almacenamos como string la lista que nos entregan\n",
    "    cervezas = file.readlines()[0]\n",
    "    # Le quitamos los espacios y, dado que los elementos estan separados por un \"-\"\n",
    "    # separamos el string por este caracter dejandolo como una lista \n",
    "    cervezas = cervezas.strip().split(\"-\")"
   ]
  },
  {
   "cell_type": "markdown",
   "metadata": {},
   "source": [
    "Para ordenar de forma alfabética usamos el método `sort`"
   ]
  },
  {
   "cell_type": "code",
   "execution_count": null,
   "metadata": {},
   "outputs": [],
   "source": [
    "cervezas.sort()\n",
    "print(cervezas)"
   ]
  },
  {
   "cell_type": "markdown",
   "metadata": {},
   "source": [
    "Para añadir dos usamos `append` y volvemos a ordenar"
   ]
  },
  {
   "cell_type": "code",
   "execution_count": null,
   "metadata": {},
   "outputs": [],
   "source": [
    "cervezas.append(\"Baltikreisi\")\n",
    "cervezas.append(\"Kuntsmen\")\n",
    "cervezas.sort()\n",
    "print(cervezas)"
   ]
  },
  {
   "cell_type": "markdown",
   "metadata": {},
   "source": [
    "## Ejercicio 5\n",
    "Para este ejercicio, la estructura de datos buscada era **COLA**. Esto porque se necesitaba algo similar a una lista, pero sacando al primer elemento sin generar problemas con la indexación."
   ]
  },
  {
   "cell_type": "code",
   "execution_count": null,
   "metadata": {},
   "outputs": [],
   "source": [
    "# Importamos deque desde collections\n",
    "from collections import deque\n",
    "# Abrimos el archivo de manera similar a como lo hicimos en el ejercicio de lista\n",
    "# solo que ahora lo guardamos como un deque.\n",
    "fila = None\n",
    "with open(\"participantes.txt\") as file:\n",
    "    fila = file.readlines()[0]\n",
    "    fila = fila.strip().split(\",\")\n",
    "    fila = deque(fila)"
   ]
  },
  {
   "cell_type": "markdown",
   "metadata": {},
   "source": [
    "Primero usamos la operación `length` para ver cuantas personas hay."
   ]
  },
  {
   "cell_type": "code",
   "execution_count": null,
   "metadata": {},
   "outputs": [],
   "source": [
    "print(len(fila))"
   ]
  },
  {
   "cell_type": "markdown",
   "metadata": {},
   "source": [
    "Para ver quién está primero utilizamos la operacion `peek`."
   ]
  },
  {
   "cell_type": "code",
   "execution_count": null,
   "metadata": {},
   "outputs": [],
   "source": [
    "print(fila[0])"
   ]
  },
  {
   "cell_type": "markdown",
   "metadata": {},
   "source": [
    "Para sacar a la primera persona de la lista usamos la operacion `popleft`."
   ]
  },
  {
   "cell_type": "code",
   "execution_count": null,
   "metadata": {},
   "outputs": [],
   "source": [
    "primero = fila.popleft()\n",
    "print(primero)\n",
    "print(fila)"
   ]
  },
  {
   "cell_type": "markdown",
   "metadata": {},
   "source": [
    "Con `append` agregamos dos personas a la fila."
   ]
  },
  {
   "cell_type": "code",
   "execution_count": null,
   "metadata": {},
   "outputs": [],
   "source": [
    "fila.append(\"Antonio\")\n",
    "fila.append(\"Fernando\")\n",
    "print(fila)"
   ]
  },
  {
   "cell_type": "markdown",
   "metadata": {},
   "source": [
    "Volvemos a ver el largo."
   ]
  },
  {
   "cell_type": "code",
   "execution_count": null,
   "metadata": {},
   "outputs": [],
   "source": [
    "print(len(fila))"
   ]
  },
  {
   "cell_type": "markdown",
   "metadata": {},
   "source": [
    "## Ejercicio 6\n",
    "Este problema se puede solucionar con un diccionario, ya que nos permite almacenar el producto y su respectivo *stock* de una manera limpia, ordenada y accesible. Ahora, tenemos la opción de utilizar un diccionario normal o un `defaultdict`. ¿Qué nos conviene en este caso? Veremos ambos casos."
   ]
  },
  {
   "cell_type": "code",
   "execution_count": null,
   "metadata": {},
   "outputs": [],
   "source": [
    "from collections import defaultdict\n",
    "\n",
    "# Primero cargamos los datos y hacemos una lista con cada uno de los artículos\n",
    "with open(\"inventario_rapido.txt\", \"r\") as archivo_inventario:\n",
    "    elementos_en_bodega = []\n",
    "    for articulo in archivo_inventario.readlines():\n",
    "        elementos_en_bodega.append(articulo.strip(\"\\n\"))\n",
    "\n",
    "# Con diccionarios:\n",
    "diccionario_bodega = dict()\n",
    "for articulo in elementos_en_bodega:\n",
    "    if articulo not in diccionario_bodega:\n",
    "        diccionario_bodega[articulo] = 1\n",
    "    else:\n",
    "        diccionario_bodega[articulo] += 1\n",
    "\n",
    "# Con defaultdicts:\n",
    "defaultdict_bodega = defaultdict(int)\n",
    "for articulo in elementos_en_bodega:\n",
    "    defaultdict_bodega[articulo] += 1\n",
    "\n",
    "# Probamos llamando un artículo que sabemos que hay\n",
    "print(\"El valor con diccionario es:\", diccionario_bodega[\"oreos\"])\n",
    "print(\"El valor con defaultdict es:\", defaultdict_bodega[\"oreos\"])"
   ]
  },
  {
   "cell_type": "markdown",
   "metadata": {},
   "source": [
    "Podemos ver que el código con `defaultdict` nos permite ahorrarnos lineas, al ser más conciso.\n",
    "Ahora, si el cliente quiere buscar el *stock* disponible de un artículo, puede hacerlo de manera rápida. Pero, ¿qué ocurre si el usuario busca un elemento que no esta disponible?"
   ]
  },
  {
   "cell_type": "code",
   "execution_count": null,
   "metadata": {},
   "outputs": [],
   "source": [
    "print(\"El valor con defaultdict es:\", defaultdict_bodega[\"arroz\"])\n",
    "print(\"El valor con diccionario es:\", diccionario_bodega[\"arroz\"])"
   ]
  },
  {
   "cell_type": "markdown",
   "metadata": {},
   "source": [
    "Vemos que con `defaultdict` el valor entregado es 0, pero con diccionarios normales el código colapsa. Esto es porque `defaultdict` asigna el valor de 0 a todas las llaves inicialmente (le da un \"*default value*\"), mientras que un diccionario no le asigna ningún valor a una llave que no ha sido creada. \n",
    "*Default dicts* funciona de esta manera con otros tipos de estructuras:\n",
    "* `defaultdict(list)`: empieza con una lista vacia\n",
    "* `defaultdict(set)`: empieza con un set vacio \n",
    "* `defaultdict(int)`: empieza con 0, etc."
   ]
  }
 ],
 "metadata": {
  "kernelspec": {
   "display_name": "Python 3",
   "language": "python",
   "name": "python3"
  },
  "language_info": {
   "codemirror_mode": {
    "name": "ipython",
    "version": 3
   },
   "file_extension": ".py",
   "mimetype": "text/x-python",
   "name": "python",
   "nbconvert_exporter": "python",
   "pygments_lexer": "ipython3",
   "version": "3.6.9"
  }
 },
 "nbformat": 4,
 "nbformat_minor": 2
}
