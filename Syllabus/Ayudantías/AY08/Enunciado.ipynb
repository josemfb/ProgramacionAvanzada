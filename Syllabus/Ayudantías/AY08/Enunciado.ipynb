{
 "cells": [
  {
   "cell_type": "markdown",
   "metadata": {},
   "source": [
    "## Ayudantía 08:  QThreads y QtDesigner\n",
    "\n",
    "#### Autores: @lucasvsj & @SugarFreeManatee\n",
    "\n",
    "\n",
    "Puedes evaluar esta ayudantía [aquí](https://docs.google.com/forms/d/e/1FAIpQLSd9Kdbjpgl2-NZbNtSRriMUTqgj8CtjX-UuFNCJ-w92sC6VjQ/viewform)"
   ]
  },
  {
   "cell_type": "markdown",
   "metadata": {},
   "source": [
    "En esta ayudantía buscaremos reforzar sus conocimientos de los contenidos, pero también queremos fomentar su creatividad. La materia de interfáces gráficas te da mucha libertad para crear un programa a tu manera, por esto no les darémos **nada**.\n",
    "\n",
    "#### Antes de decirles su missión, harémos un pequeño repaso.\n",
    "\n",
    "\n",
    "\n",
    "### QThreads:\n",
    "\n",
    "Los QThreads son threads hechos para ser compatibles con la librería de interfáces gráficas PyQt5. Tienen algunas diferencias con los threads de la librería threading, por ejemplo heredan de QThread y usan el método isRunning en vez de is_alive\n",
    "\n",
    "También puedes generar concurrrencia con QTimer, que repite una operación cada cierta cantidad de tiempo.\n",
    "Puedes encontrar ejemplos de ambos objetos en los [contenidos de la semana](https://github.com/IIC2233/contenidos/blob/master/semana-11/1-pyqt-qthreads.ipynb).\n",
    "\n",
    "\n",
    "### QtDesigner:\n",
    "\n",
    "QtDesigner es una herramienta propia de Qt, que permite crear interfaces de manera más sencilla, además de poder visualizarlas mientras se crean. Durante la ayudantía explicarémos como usar eficazmente esta herramienta y dando consejos de funciones útiles de esta herramienta, y como implementarlas. \n",
    "\n",
    "Para conocer todas las funcionalidades de QtDesigner, puedes dirigirte al [manual de uso](https://doc.qt.io/qt-5/qtdesigner-manual.html) en la documentación de Qt.\n",
    "\n"
   ]
  },
  {
   "cell_type": "markdown",
   "metadata": {},
   "source": [
    "### Actividad\n",
    "\n",
    "\n",
    "Para esta ayudantía deberás crear el juego **__Morty night run__**, que es una variación del juego __Space Invaders__ utilizando sprites de __Rick and Morty__. En el juego, nuestro científico sarcástico interdimensional favorito, Rick Sanchez, debe defenderse de una horda de Mortys contagiados con el mismo virus que contagió a Jerry en el episodio 8 de la temporada 2, Televisión Interdimensional 2. Para esto, Rick ha fabricado un antídoto y debe lanzarselo a la horda de Mortys mediante jeringas.\n",
    "\n",
    "Durante el juego aparecerán Mortys contagiados y correrán hacia el borde inferior de la ventana. Rick, que solo se puede mover horizontalmente, deberá interceptarlos con jeringas antes de que lleguen al borde. Si 3 Mortys contagiados pasan el borde, pierdes.\n",
    "\n",
    "\n",
    "El juego debe tener a lo menos dos ventanas, una de inicio que recibe el nombre del usuario y una principal donde se desarrolla el juego. Aquí hay un ejemplo de las ventanas inicial y principal:\n",
    "\n",
    "![ventana_inicial](/img/ventana_inicio.png)\n",
    "\n",
    "![ventana principal](/img/ventana_principal.png)\n",
    "\n",
    "\n",
    "\n",
    "\n",
    "\n",
    "Deberás crear el backend y frontend del programa usando QtDesigner y QThreads, y conectarlos mediante señales."
   ]
  }
 ],
 "metadata": {
  "kernelspec": {
   "display_name": "Python 3",
   "language": "python",
   "name": "python3"
  },
  "language_info": {
   "codemirror_mode": {
    "name": "ipython",
    "version": 3
   },
   "file_extension": ".py",
   "mimetype": "text/x-python",
   "name": "python",
   "nbconvert_exporter": "python",
   "pygments_lexer": "ipython3",
   "version": "3.6.9"
  }
 },
 "nbformat": 4,
 "nbformat_minor": 4
}
