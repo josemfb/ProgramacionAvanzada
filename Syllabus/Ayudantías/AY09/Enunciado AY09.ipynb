{
 "cells": [
  {
   "cell_type": "markdown",
   "metadata": {
    "slideshow": {
     "slide_type": "slide"
    }
   },
   "source": [
    "## Ayudantía 09:  I/O y Serialización\n",
    "\n",
    "#### Autores: @Alonsinho1 & @csantiagopaz\n",
    "\n",
    "\n",
    "Puedes evaluar esta ayudantía [aquí](https://forms.gle/qh2WLMmGoAhEWLma8)\n"
   ]
  },
  {
   "cell_type": "markdown",
   "metadata": {
    "slideshow": {
     "slide_type": "fragment"
    }
   },
   "source": [
    "En esta ayudantía tiene como proposito que interioricen los conpectos de I/O y Serialización. Para esto haremos un breve repaso y unos cuantos ejercicios que les permitirán visualizar la materia."
   ]
  },
  {
   "cell_type": "markdown",
   "metadata": {
    "slideshow": {
     "slide_type": "slide"
    }
   },
   "source": [
    "### ¿Qué son los bits y los bytes?:\n",
    "\n",
    "Un __byte__ es la estructura basica para guardar datos computacionalmente. Este esta compuesto de 8 __bits__. Cada bit es un numero que puede tener como valor 1 o 0.\n",
    "\n",
    "Tal como medimos la naturaleza mediante unidades de medida (gramos, litros, Newton, etc.), el byte lo utilizamos para medir el tamaño de los archivos de un computador.\n",
    "\n",
    "__Para mayor información de como el computador interpreta esta info, pueden tomar el curso IIC2343 Arquitectura de Computadores__"
   ]
  },
  {
   "cell_type": "markdown",
   "metadata": {
    "slideshow": {
     "slide_type": "fragment"
    }
   },
   "source": [
    "### ¿Qué significa serializar?:\n",
    "\n",
    "Serializar es transformar un objeto en una secuencia o serie de bytes. Esto permite tener la información en un estado de forma persistente, lo que sirve para enviar el objeto a otros computadores y programas."
   ]
  },
  {
   "cell_type": "markdown",
   "metadata": {
    "slideshow": {
     "slide_type": "slide"
    }
   },
   "source": [
    "### Formatos de seralización"
   ]
  },
  {
   "cell_type": "markdown",
   "metadata": {
    "slideshow": {
     "slide_type": "fragment"
    }
   },
   "source": [
    "#### JSON\n",
    "\n",
    "Este formato es limitado, pues solamente permite serializar __algunos__ objetos específicos como strings y diccionarios. Sin embargo, es legible por humanos."
   ]
  },
  {
   "cell_type": "markdown",
   "metadata": {
    "slideshow": {
     "slide_type": "fragment"
    }
   },
   "source": [
    "#### Pickle\n",
    "\n",
    "Pickle es un formato específico de Python para serializar. Una de las ventajas es que este puede serializar __cualquier__ objeto de python, sin embargo no puede ser leído por otros lenguajes de programación o por humanos.\n",
    "\n",
    "Como este no puede ser leido por humanos, es posible incluír código malicioso en un programa que utiliza pickle, por lo que __NO__ deberías ejecutar código que incluya pickle si es que no confías en su origen."
   ]
  },
  {
   "cell_type": "markdown",
   "metadata": {
    "slideshow": {
     "slide_type": "slide"
    }
   },
   "source": [
    "### Resumen de JSON Vs Pickle\n",
    "\n",
    "![Resmuen](imgs/Capture.png)"
   ]
  },
  {
   "cell_type": "markdown",
   "metadata": {
    "slideshow": {
     "slide_type": "slide"
    }
   },
   "source": [
    "### Bytes en IIC2233\n",
    "\n",
    "En este curso se les pedira que puedan leer, editar y guardar estos tipos de datos, al igual como lo han hecho con los strings, diccionarios, etc..."
   ]
  },
  {
   "cell_type": "markdown",
   "metadata": {
    "slideshow": {
     "slide_type": "fragment"
    }
   },
   "source": [
    "#### Open()\n",
    "\n",
    "La función open() les permitira leer cualquier archivo sin que estos necesariamente sean de texto. Cual es la ventaja de usar open() directamente?"
   ]
  },
  {
   "cell_type": "code",
   "execution_count": null,
   "metadata": {
    "slideshow": {
     "slide_type": "fragment"
    }
   },
   "outputs": [],
   "source": [
    "with open('datos.bin', 'rb') as byte_file:\n",
    "    datos = byte_file.read()\n",
    "    print(datos)\n",
    "    print(type(datos))\n",
    "    mis_bytes = bytearray(datos)\n",
    "    print(type(mis_bytes))\n",
    "    \n",
    "with open('datos2.bin', 'wb') as byte_file:\n",
    "    byte_file.write(datos)\n",
    "    \n",
    "with open('datos2.bin', 'rb') as byte_file:\n",
    "    print(byte_file.read())\n",
    "    mis_bytes = bytearray(byte_file.read())"
   ]
  },
  {
   "cell_type": "markdown",
   "metadata": {
    "slideshow": {
     "slide_type": "slide"
    }
   },
   "source": [
    "#### bytes() v/s bytearray()"
   ]
  },
  {
   "cell_type": "markdown",
   "metadata": {
    "slideshow": {
     "slide_type": "fragment"
    }
   },
   "source": [
    "En Python existen dos metodos para definir la estrucutra de byte. Estos son, _bytes()_ y _bytearray()_\n",
    "\n",
    "Estos métodos permitirán contener bytes o transformar otros tipos de datos a un objeto de tipo bytes.\n",
    "\n",
    "La diferencia entre bytes y bytearrays es la misma que entre _tuples_ y _lists_:\n",
    "\n",
    "- _bytes_ y _tuples_ son __inmutables__. Mientras que,\n",
    "\n",
    "- _bytearrays_ y _lists_ son __mutables__."
   ]
  },
  {
   "cell_type": "code",
   "execution_count": null,
   "metadata": {
    "slideshow": {
     "slide_type": "slide"
    }
   },
   "outputs": [],
   "source": [
    "datos = bytes([1, 12, 255]) #transformo una lista de ints (0 <= x <= 255)\n",
    "print(datos)\n",
    "\n",
    "inversos = bytearray()\n",
    "for i in range(len(datos)-1, -1, -1):\n",
    "    inversos.append(datos[i])\n",
    "\n",
    "print(inversos)\n",
    "\n",
    "for i in inversos:\n",
    "    print(i)"
   ]
  },
  {
   "cell_type": "markdown",
   "metadata": {
    "slideshow": {
     "slide_type": "slide"
    }
   },
   "source": [
    "#### Conversión de bytes a números enteros\n"
   ]
  },
  {
   "cell_type": "code",
   "execution_count": null,
   "metadata": {
    "slideshow": {
     "slide_type": "fragment"
    }
   },
   "outputs": [],
   "source": [
    "print(int.from_bytes(b'\\x01\\x01', byteorder='big')) # Utilizaremos el estandar big endian [leer un número de izquierda a derecha]\n"
   ]
  },
  {
   "cell_type": "markdown",
   "metadata": {
    "slideshow": {
     "slide_type": "slide"
    }
   },
   "source": [
    "#### Obtener los bits de un byte"
   ]
  },
  {
   "cell_type": "code",
   "execution_count": null,
   "metadata": {
    "slideshow": {
     "slide_type": "fragment"
    }
   },
   "outputs": [],
   "source": [
    "un_byte = b'\\x7a'\n",
    "\n",
    "#pasamos de bytes a int\n",
    "int_byte = int.from_bytes(un_byte, 'big')\n",
    "print('1.', int_byte)\n",
    "\n",
    "#transformamos a un string binario\n",
    "bin_byte = bin(int_byte)\n",
    "print('2.', bin_byte)\n",
    "\n",
    "#eliminamos el 0b del formato bin\n",
    "bin_byte = bin_byte[2:]\n",
    "print('3.', bin_byte)\n",
    "\n",
    "#rellenamos con 0 a la izquierda, para ajustar el tamaño a 8 bits.\n",
    "bits_byte = bin_byte.zfill(8)\n",
    "print('4.', bits_byte)"
   ]
  },
  {
   "cell_type": "markdown",
   "metadata": {
    "slideshow": {
     "slide_type": "slide"
    }
   },
   "source": [
    "### Ejercicios Propuestos:"
   ]
  },
  {
   "cell_type": "markdown",
   "metadata": {
    "slideshow": {
     "slide_type": "fragment"
    }
   },
   "source": [
    "¡Han contaminado el recetario de las pizzas del Tini Tamburini! Es por esta razón que han venido a pedirte ayuda mediante este ejercicio propuesto.\n",
    "\n",
    "Deberás deserializar el archivo **pizzeria.json** que contiene una lista de objetos de clase `Pizza`. Estos objetos tienen el atributo `ingredientes`, el cual ha sido contaminado con elementos que no son comestibles. Para identificarlos, el Tini le entrega un archivo llamado **comestibles.json**, el cual será de ayuda para filtrar los ingredientes mediante el uso un `object_hook`. Finalmente, imprime todas las pizzas utilizando *f-strings*."
   ]
  },
  {
   "cell_type": "code",
   "execution_count": null,
   "metadata": {
    "slideshow": {
     "slide_type": "slide"
    }
   },
   "outputs": [],
   "source": [
    "import json\n",
    "\n",
    "class Pizza:\n",
    "    def __init__(self, nombre, ingredientes, *args, **kwargs):\n",
    "        self.nombre = nombre\n",
    "        self.ingredientes = ingredientes\n",
    "    def __repr__(self):\n",
    "        return self.nombre\n",
    "    \n",
    "def filtrar_comestibles(diccionario):\n",
    "    \n",
    "    return Pizza(**diccionario)\n",
    "\n",
    "# Carga las pizzas del archivo pizzeria.json\n",
    "# y finalmente imprime la lista de pizzas usando f-strings\n",
    "\n"
   ]
  },
  {
   "cell_type": "markdown",
   "metadata": {
    "slideshow": {
     "slide_type": "slide"
    }
   },
   "source": [
    "## Recruit Anonymous"
   ]
  },
  {
   "cell_type": "code",
   "execution_count": null,
   "metadata": {},
   "outputs": [],
   "source": []
  },
  {
   "cell_type": "markdown",
   "metadata": {
    "slideshow": {
     "slide_type": "fragment"
    }
   },
   "source": [
    "# Parte 1\n",
    "Después de ver a Anonymous en twitter, tu como programin decidiste que postular a Anonymous, pero no es un desafio facil.\n",
    "\n",
    "Al intentar descargar los archivos necesarios para postular, viste que estos estaban escondidos y encriptados, pero tu como experto en Manejo de Bytes y Serealización decidiste investigar más. Luego de arduo trabajo, te diste cuenta que había una forma de desincriptar el archivo, para esto, primero hay que buscar el archivo \"contenido.alma\", consiguindo encontrar el archivo hay que leer el archivo completo en forma de bytes, despues se obtienen pedazos de a 5 bytes del archivo y se elimina el máximo de ese chunk de bytes. Finalmente deberas eliminar el último byte obtenido (es decir, removerlo del bytearray, el archivo se llama \"contenido.alma\").\n",
    "\n",
    "\n",
    "Para poder guardar los contenidos, se deberá escribir los bytes resultantes en un archivo nuevo llamado \"desencriptado.alma\""
   ]
  },
  {
   "cell_type": "code",
   "execution_count": null,
   "metadata": {},
   "outputs": [],
   "source": [
    "import os\n",
    "import pickle\n",
    "# import json\n",
    "\n",
    "def buscar_contenido():\n",
    "    for raiz, directorios, archivos in os.walk('Multiverso'):\n",
    "\n",
    "        if archivos:\n",
    "            if archivos[0] == \"contenido.alma\":\n",
    "                new_str = os.sep.join([raiz, archivos[0]])\n",
    "                new_str = new_str.replace(\"\\\\\", \"/\")\n",
    "                return new_str\n",
    "\n",
    "\n",
    "def obtener_contenido(path_alma):\n",
    "    with open(path_alma, \"rb\") as file:\n",
    "        todos_los_bytes = file.read()\n",
    "        chunk = bytearray()\n",
    "        for i in range(0, len(todos_los_bytes), 5):\n",
    "            segmento = todos_los_bytes[i:i + min(5, abs(i - len(todos_los_bytes)))]\n",
    "            grande = max(segmento)\n",
    "            bytes_segmento = bytearray(segmento)\n",
    "            bytes_segmento.remove(grande)\n",
    "            chunk.extend(bytes_segmento)\n",
    "        a = chunk.pop()\n",
    "        with open(\"desencriptado.alma\", \"wb\") as file2:\n",
    "            file2.write(chunk)"
   ]
  },
  {
   "cell_type": "markdown",
   "metadata": {},
   "source": [
    "# Parte 2\n",
    "\n",
    "Ahora que tienes la función de desencriptación, deberás cargar la información del archivo generado en la funcion anterior mediante algum metodo de deserealización. Sin embargo, intuyes que la información entregda tiene datos extras y por eso has definido en un tupla los parametros que desearas tener del archivo. Es por esto que te propones definir el metodo de deserialización de los datos.\n",
    "\n",
    "El primer desafio que te encuentras es definir que formato de deserialización deberas usar. El segundo desafio es implementar la deserialización. Finalmente, deberas completar la función deserializar_contenido que retornará una instancia de la clase recruit."
   ]
  },
  {
   "cell_type": "code",
   "execution_count": null,
   "metadata": {},
   "outputs": [],
   "source": [
    "import os\n",
    "import pickle\n",
    "# import json\n",
    "\n",
    "\n",
    "class ContenidoDelInfinito:\n",
    "    def init(self, nombre, semana, contenido):\n",
    "        self.nombre = nombre\n",
    "        self.semana = semana\n",
    "        self.contenido = contenido\n",
    "        self.sacrificio = \"Sacrifique ...\"\n",
    "\n",
    "    def setstate(self, state):\n",
    "        \"\"\"COMPLETAR SOLO SI ES CORRESPONDIENTE\"\"\"\n",
    "        params = (\"nombre\", \"semana\", \"contenido\")\n",
    "        state.update({\"sacrificio\": self.sacrificio})\n",
    "        listas = []\n",
    "        for key in state.keys():\n",
    "            if key not in params:\n",
    "                listas.append(state[key])\n",
    "        for coisa in listas:\n",
    "            del coisa\n",
    "        self.dict = state\n",
    "\n",
    "    def str(self):\n",
    "        return \"nombre: {} - semana: {} - contenido: {} - sacrificio: {}\".format(\n",
    "            self.nombre,\n",
    "            self.semana,\n",
    "            self.contenido,\n",
    "            self.sacrificio)\n",
    "\n",
    "\n",
    "def contenido_hook(contenido):\n",
    "    \"\"\"COMPLETAR SOLO SI ES CORRESPONDIENTE\"\"\"\n",
    "    params = (\"nombre\", \"semana\", \"contenido\")\n",
    "    pass\n",
    "\n",
    "\n",
    "def deserializar_contenido(path_serializado):\n",
    "    with open(path_serializado, \"rb\") as file:\n",
    "        pck = pickle.load(file)\n",
    "        # return ContenidoDelInfinito(nombre, )\n",
    "\n",
    "        return pck"
   ]
  },
  {
   "cell_type": "markdown",
   "metadata": {},
   "source": [
    "Aca puede testear tu codigo"
   ]
  },
  {
   "cell_type": "code",
   "execution_count": null,
   "metadata": {},
   "outputs": [],
   "source": [
    "if __name__ == \"__main__\":\n",
    "    busqueda = False\n",
    "    desencriptar = False\n",
    "    deserializar = False\n",
    "    try:\n",
    "        print(\"Buscando path ...\")\n",
    "        path = buscar_contenido()\n",
    "        if path:\n",
    "            print(\"El camino al contenido del alma es: \", path)\n",
    "            busqueda = True\n",
    "        else:\n",
    "            print(\"La busqueda del contenido del alma ha fracasado\")\n",
    "    except Exception as err:\n",
    "        print(err, \"hola\")\n",
    "        print(\"La busqueda del contenido del alma ha fracasado\")\n",
    "    if busqueda:\n",
    "        try:\n",
    "            print(\"Desencriptando el contenido\")\n",
    "            obtener_contenido(path)\n",
    "            if os.path.exists(\"desencriptado.alma\"):\n",
    "                print(\"El sacrificio ha sido aceptado\")\n",
    "                desencriptar = True\n",
    "            else:\n",
    "                print(\"Tu sacrificio no es el correcto\")\n",
    "        except Exception as err:\n",
    "            print(err, \" sacrificio\")\n",
    "    if desencriptar:\n",
    "        try:\n",
    "            print(\"Deserializando el contenido\")\n",
    "            contenido = deserializar_contenido(\"desencriptado.alma\")\n",
    "\n",
    "            if contenido:\n",
    "                deserializar = True\n",
    "                print(\"Has logrado obtener el contenido\")\n",
    "            else:\n",
    "                print(\"No has deserializado bien\", \"else\")\n",
    "        except Exception as err:\n",
    "            print(err, \" deserializado\")\n",
    "            print(\"No has deserializado bien\")\n",
    "    if deserializar:\n",
    "        print(contenido)\n",
    "        print(\n",
    "            \"nombre: I/O + sacrificio: Tu sacrificio\")\n",
    "        print(\"Si ves esto, y las dos líneas anteriores estan bien, te hago entrega del Contenido del Anonymous\")"
   ]
  }
 ],
 "metadata": {
  "celltoolbar": "Slideshow",
  "kernelspec": {
   "display_name": "Python 3",
   "language": "python",
   "name": "python3"
  },
  "language_info": {
   "codemirror_mode": {
    "name": "ipython",
    "version": 3
   },
   "file_extension": ".py",
   "mimetype": "text/x-python",
   "name": "python",
   "nbconvert_exporter": "python",
   "pygments_lexer": "ipython3",
   "version": "3.6.9"
  }
 },
 "nbformat": 4,
 "nbformat_minor": 4
}
