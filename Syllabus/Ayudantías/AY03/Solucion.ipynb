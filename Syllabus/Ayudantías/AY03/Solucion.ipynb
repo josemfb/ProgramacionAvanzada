{
 "cells": [
  {
   "cell_type": "markdown",
   "metadata": {},
   "source": [
    "# Ayudantía 03: OOP - II\n",
    "\n",
    "## Autores: [@jfuentesg26](https://github.com/jfuentesg26) & [@igbasly](https://github.com/igbasly) & [@nabenitez](https://github.com/nabenitez)"
   ]
  },
  {
   "cell_type": "markdown",
   "metadata": {},
   "source": [
    "# Diagrama de Clases\n",
    "\n",
    "El **diagrama de clases** es una herramienta muy útil que permite visualizar fácilmente las clases que componen un sistema, sus atributos, métodos y las interacciones que existen entre ellas. \n",
    "¿Para qué sirve? Para planificar de forma clara y sencilla nuestros programas.\n",
    "\n",
    "## Elementos de un diagrama de clases\n",
    "\n",
    "\n",
    "### Clases\n",
    "\n",
    "Gráficamente, como muestra la figura a continuación, representaremos una clase con un rectángulo dividido en tres niveles. El primer nivel contiene el nombre de la clase; el segundo contiene los atributos (nombre y tipo de variable) y el tercero contiene los métodos propios de la clase (nombre, parámetros que recibe y tipo de variable que retorna) \n",
    "\n",
    "<img src = \"img\\clase.jpg\">"
   ]
  },
  {
   "cell_type": "markdown",
   "metadata": {},
   "source": [
    "### Relaciones\n",
    "\n",
    "Los diagramas de clases explican cómo ocurre la interacción entre las clases dentro del sistema que modelamos. Las relaciones más comunes son: **composición**, **agregación** y **herencia**.\n",
    "\n",
    "\n",
    "#### Composición\n",
    "\n",
    "En este tipo de relación, los objetos de la clase que creamos se contruyen a partir de la **inclusión** de otros elementos. La existencia de los objetos incluidos depende de la existencia del objeto que los incluye. La relación de composición entre clases se indica por una flecha que parte desde el objeto base y va hasta el objeto que incluímos. La base de la flecha es un **rombo relleno**. "
   ]
  },
  {
   "cell_type": "markdown",
   "metadata": {},
   "source": [
    "#### Agregación\n",
    "\n",
    "En este tipo de relación también construimos la clase base usando otros objetos, pero en este caso, el tiempo de vida del objeto que agregamos es **independiente** del tiempo de vida del objeto que lo incluye. La asociación entre los objetos se indica por una flecha que parte desde el objeto base y va hasta el objeto que agregamos. La base de la flecha es un **rombo sin rellenar**."
   ]
  },
  {
   "cell_type": "markdown",
   "metadata": {},
   "source": [
    "#### Cardinalidad de las relaciones\n",
    "\n",
    "Tanto para la composición como la agregación, utilizaremos el concepto de **cardinalidad** para indicar el grado y nivel de dependencia entre las relaciones. La cardinalidad la indicamos en cada extremo de la relación. Los posibles casos de cardinalidad son:\n",
    "\n",
    "- 1 o muchos: 1..*\n",
    "- 0 o muchos: 0..*\n",
    "- Número fijo: n"
   ]
  },
  {
   "cell_type": "markdown",
   "metadata": {},
   "source": [
    "#### Herencia\n",
    "Esta relación de herencia se define gráficamente con una flecha de punta vacía que apunta hacia la superclase, como muestra la siguiente figura.\n",
    "\n",
    "<img src=\"img/ejemplo2.jpg\">"
   ]
  },
  {
   "cell_type": "markdown",
   "metadata": {},
   "source": [
    "## Ejercicio propuesto\n",
    "### Ejercicio 1.1: De código a diagrama: `GoT`"
   ]
  },
  {
   "cell_type": "markdown",
   "metadata": {},
   "source": [
    "Lamentablemente nuestro ayudante aún no puede superar el hecho que Game of Thrones se haya terminado (sobre todo con ese final). Pero de todas maneras quiere recomendarte la serie y va a hacer todo lo posible para que durante este semestre te tientes a verla. Es por esto que ha creado un ejercicio en el que **debes crear un diagrama de clases a partir del siguiente código** (sin *spoilers*) para que vayas familiarizándote con la serie y te prepares para el enredo familiar que cada personaje tiene.\n",
    "\n",
    "Para las distintas clases, dentro de sus constructores se colocan atributos que poseen, la mayoría inicializados como `None` por simplicidad, pero se dejan comentados sus tipos reales para mayor claridad de modelación. También, se dejan las firmas de los distintos métodos a considerar, pero vacias las implementaciones por simplicidad."
   ]
  },
  {
   "cell_type": "code",
   "execution_count": null,
   "metadata": {},
   "outputs": [],
   "source": [
    "class Humano:\n",
    "    \n",
    "    def __init__(self):\n",
    "        self.nombre = None # str\n",
    "        self.edad = None # int\n",
    "\n",
    "    def comer(self):\n",
    "        pass\n",
    "\n",
    "    def pelear(self):\n",
    "        pass\n",
    "\n",
    "class LoboGuargo:\n",
    "    \n",
    "    def __init__(self):\n",
    "        self.nombre = None # str\n",
    "        self.ataque = None # int\n",
    "        self.color = None # str\n",
    "\n",
    "    def cazar(self):\n",
    "        pass\n",
    "\n",
    "    def atacar(self):\n",
    "        pass\n",
    "\n",
    "class Stark:\n",
    "    \n",
    "    def __init__(self):\n",
    "        self.resistencia_al_frio = None # int\n",
    "        self.lobo_de_mascota = LoboGuargo() # LoboGuargo\n",
    "\n",
    "    def rezar_a_los_antiguos(self):\n",
    "        pass\n",
    "\n",
    "class GuardiaDeLaNoche:\n",
    "    def __init__(self):\n",
    "        self.rango = None # str\n",
    "\n",
    "    def cuidar_el_muro(self):\n",
    "        pass\n",
    "\n",
    "    \n",
    "\n",
    "class ReyDelNorte(Humano, Stark):\n",
    "    \n",
    "    def __init__(self):\n",
    "        self.poder = None # int\n",
    "        self.espada_ice = None # bool\n",
    "\n",
    "    def ejecutar_culpables(self):\n",
    "        pass\n",
    "\n",
    "class NedStark(ReyDelNorte):\n",
    "    \n",
    "    def __init__(self):\n",
    "        self.familia = None # list[Humanos]\n",
    "        self.honor = None # int\n",
    "\n",
    "    def tomar_decision_importante(self):\n",
    "        pass\n",
    "\n",
    "class JonSnow(Humano, Stark, GuardiaDeLaNoche):\n",
    "    \n",
    "    def __init__(self):\n",
    "        self.padre = NedStark() # NedStark\n",
    "        self.bastardo = None # bool\n",
    "\n",
    "class GoT:\n",
    "    \n",
    "    def __init__(self):\n",
    "        self.rating = None # int\n",
    "        self.personaje_principal = JonSnow() # JonSnow\n",
    "        self.personaje_mas_bacan = NedStark() # NedStark\n",
    "\n",
    "    def empezar_a_ver_la_serie(self):\n",
    "        print('Excelente decision, disfrute')\n",
    "\n",
    "\n",
    "\n"
   ]
  },
  {
   "cell_type": "markdown",
   "metadata": {},
   "source": [
    "<img src=\"img/Diagrama_clases.png\">"
   ]
  },
  {
   "cell_type": "markdown",
   "metadata": {},
   "source": [
    "# Multiherencia"
   ]
  },
  {
   "cell_type": "markdown",
   "metadata": {},
   "source": [
    "Así como la semana pasada se vio que una clase podía heredar datos de otra clase previamente creada, tambien es posible que se herede de **más de una.** A esto se le llama **multiherencia** (bastante descriptivo)."
   ]
  },
  {
   "cell_type": "markdown",
   "metadata": {},
   "source": [
    "Un ejemplo de esto puede ser la clase `Academico`, la cual se puede formar a partir de dos clases preexistentes: `Investigador` y `Docente`."
   ]
  },
  {
   "cell_type": "markdown",
   "metadata": {},
   "source": [
    "Este diseño se refleja en slguiente diagrama:\n",
    "    \n",
    "![Diamante](img/OOP_multiherencia.png)"
   ]
  },
  {
   "cell_type": "markdown",
   "metadata": {},
   "source": [
    "Se puede notar que las dos clases expuestas contiene un método `__init__`, por lo tanto, sería lógico pensar que podemos llamarlos directamente a cada uno al realizar la herencia en `Academico`. Pero..."
   ]
  },
  {
   "cell_type": "markdown",
   "metadata": {},
   "source": [
    "## Problema del diamante! 😨"
   ]
  },
  {
   "cell_type": "markdown",
   "metadata": {},
   "source": [
    "El siguiente ejemplo muestra lo que ocurre en un contexto de multiherencia si es que cada subclase llama directamente a inicializar a todas sus superclases. La figura muestra una jerarquía de clases en que una `SubclaseA` hereda de dos superclases donde, a su vez, ambas derivan de una misma `ClaseB`. A este modelo que se forma le llamamos _jerarquía de **diamante**_.\n",
    "\n",
    "![Diamante](img/diamante_small.png)"
   ]
  },
  {
   "cell_type": "code",
   "execution_count": null,
   "metadata": {},
   "outputs": [],
   "source": [
    "class ClaseB:\n",
    "    \n",
    "    num_llamadas_B = 0\n",
    "    \n",
    "    def llamar(self):\n",
    "        print(\"Llamando método en Clase B\")\n",
    "        self.num_llamadas_B += 1\n",
    "\n",
    "\n",
    "class SubClaseIzquierda(ClaseB):\n",
    "    \n",
    "    num_llamadas_izq = 0\n",
    "    \n",
    "    def llamar(self):\n",
    "        print(\"Estoy en Subclase Izquierda\")\n",
    "        ClaseB.llamar(self)\n",
    "        print(\"Llamando método en Subclase Izquierda\")\n",
    "        self.num_llamadas_izq += 1\n",
    "\n",
    "        \n",
    "class SubClaseDerecha(ClaseB):\n",
    "    \n",
    "    num_llamadas_der = 0\n",
    "    \n",
    "    def llamar(self):\n",
    "        print(\"Estoy en Subclase Derecha\")\n",
    "        ClaseB.llamar(self)\n",
    "        print(\"Llamando método en Subclase Derecha\")\n",
    "        self.num_llamadas_der += 1\n",
    "\n",
    "        \n",
    "class SubClaseA(SubClaseIzquierda, SubClaseDerecha):\n",
    "    \n",
    "    num_llamadas_subA = 0\n",
    "    \n",
    "    def llamar(self):\n",
    "        print(\"Estoy en Subclase A\")        \n",
    "        SubClaseIzquierda.llamar(self)\n",
    "        SubClaseDerecha.llamar(self)\n",
    "        print(\"Llamando método en Subclase A\")\n",
    "        self.num_llamadas_subA += 1\n",
    "\n",
    "\n",
    "s = SubClaseA()\n",
    "s.llamar()\n",
    "print()\n",
    "print(f\"Llamadas en Subclase A: {s.num_llamadas_subA}\")\n",
    "print(f\"Llamadas en Subclase Izquierda: {s.num_llamadas_izq}\")\n",
    "print(f\"Llamadas en Subclase Derecha: {s.num_llamadas_der}\")\n",
    "print(f\"Llamadas en Clase B: {s.num_llamadas_B}\")"
   ]
  },
  {
   "cell_type": "markdown",
   "metadata": {},
   "source": [
    "Podemos apreciar que el método `llamar` de la clase de más arriba en la jerarquía (`ClaseB`) fue llamada dos veces. Luego de cada ejecución de `llamar`, la secuencia de invocaciones sube por la jerarquía hasta el método correspondiente en `ClaseB`.\n",
    "\n",
    "La estructura de jerarquía en forma de diamante ocurre **siempre** que tengamos una clase que hereda de dos clases, aun cuando no tengamos una tercera superclase explícita. ¿Por qué? Porque en Python (y en varios lenguajes OOP), existe una clase [`object`](https://docs.python.org/3.6/library/functions.html#object) de la cual heredan **todas** las clases que creamos."
   ]
  },
  {
   "cell_type": "markdown",
   "metadata": {},
   "source": [
    "## Solución 🙌"
   ]
  },
  {
   "cell_type": "markdown",
   "metadata": {},
   "source": [
    "La forma de abordar este problema es que cada clase llame a la clase que le \"precede\" en el orden del esquema. En python, esta jerarquía posee un orden definido **de izquierda a derecha** de las super clases que la componen."
   ]
  },
  {
   "cell_type": "markdown",
   "metadata": {},
   "source": [
    "![Diamante](img/diamante_small.png)"
   ]
  },
  {
   "cell_type": "markdown",
   "metadata": {},
   "source": [
    "Volviendo al ejemplo anterior, esta jerarquía tendria la forma:\n",
    "\n",
    "**`SubClaseA` $\\Large\\rightarrow$ `SubClaseIzquierda` $\\Large\\rightarrow$ `SubClaseDerecha` $\\Large\\rightarrow$ `ClaseB`**"
   ]
  },
  {
   "cell_type": "markdown",
   "metadata": {},
   "source": [
    "Python nos ofrece `super()` para seguir esta jerarquía de forma automática y solucionar nuestro problema.\n",
    "\n",
    "Intentémoslo!"
   ]
  },
  {
   "cell_type": "code",
   "execution_count": null,
   "metadata": {},
   "outputs": [],
   "source": [
    "class ClaseB:\n",
    "    \n",
    "    num_llamadas_B = 0\n",
    "    \n",
    "    def llamar(self):\n",
    "        print(\"Llamando método en Clase B\")\n",
    "        self.num_llamadas_B += 1\n",
    "\n",
    "\n",
    "class SubClaseIzquierda(ClaseB):\n",
    "    \n",
    "    num_llamadas_izq = 0\n",
    "    \n",
    "    def llamar(self):\n",
    "        print(\"Estoy en Subclase Izquierda\")\n",
    "        super().llamar()\n",
    "        print(\"Llamando método en Subclase Izquierda\")\n",
    "        self.num_llamadas_izq += 1\n",
    "\n",
    "        \n",
    "class SubClaseDerecha(ClaseB):\n",
    "    \n",
    "    num_llamadas_der = 0\n",
    "    \n",
    "    def llamar(self):\n",
    "        print(\"Estoy en Subclase Derecha\")\n",
    "        super().llamar()\n",
    "        print(\"Llamando método en Subclase Derecha\")\n",
    "        self.num_llamadas_der += 1\n",
    "\n",
    "        \n",
    "class SubClaseA(SubClaseIzquierda, SubClaseDerecha):\n",
    "    \n",
    "    num_llamadas_subA = 0\n",
    "    \n",
    "    def llamar(self):\n",
    "        print(\"Estoy en Subclase A\")\n",
    "        super().llamar()\n",
    "        print(\"Llamando método en Subclase A\")\n",
    "        self.num_llamadas_subA += 1\n",
    "\n",
    "\n",
    "s = SubClaseA()\n",
    "s.llamar()\n",
    "print()\n",
    "print(f\"Llamadas en Subclase A: {s.num_llamadas_subA}\")\n",
    "print(f\"Llamadas en Subclase Izquierda: {s.num_llamadas_izq}\")\n",
    "print(f\"Llamadas en Subclase Derecha: {s.num_llamadas_der}\")\n",
    "print(f\"Llamadas en Clase B: {s.num_llamadas_B}\")"
   ]
  },
  {
   "cell_type": "markdown",
   "metadata": {},
   "source": [
    "## Volvamos con el ejemplo del académico.\n",
    "\n",
    "![Diamante](img/OOP_multiherencia2.png)"
   ]
  },
  {
   "cell_type": "code",
   "execution_count": null,
   "metadata": {},
   "outputs": [],
   "source": [
    "class Investigador:\n",
    "    \n",
    "    def __init__(self, area):\n",
    "        print(\"Inicializando investigador\")\n",
    "        self.area = area\n",
    "        self.num_publicaciones = 0\n",
    "        \n",
    "        \n",
    "class Docente:\n",
    "    def __init__(self, departamento):\n",
    "        print(\"Inicializando docente\")\n",
    "        self.departamento = departamento\n",
    "        self.num_cursos = 3\n",
    "        \n",
    "        \n",
    "class Academico(Docente, Investigador):\n",
    "    def __init__(self, nombre, oficina, area_investigacion, departamento):\n",
    "        # Solo un llamado, con todos los argumentos que tenemos\n",
    "        super().__init__(departamento, area_investigacion)\n",
    "        self.nombre = nombre\n",
    "        self.oficina = oficina\n",
    "\n",
    "        \n",
    "print(Academico.__mro__)\n",
    "p1 = Academico(\"Emilia Donoso\", \"O-5\", \"Inteligencia de Máquina\", \"Ciencia De La Computación\")\n",
    "print(p1.nombre)\n",
    "print(p1.area)\n",
    "print(p1.departamento)"
   ]
  },
  {
   "cell_type": "markdown",
   "metadata": {},
   "source": [
    "## Y los argumentos?? 😰\n",
    "\n",
    "Nos pasa que ingresamos todos los argumentos que `Academico` recibe, pero `super().__init__` no sabe que argumentos son para cada superclase."
   ]
  },
  {
   "cell_type": "markdown",
   "metadata": {},
   "source": [
    "### Solución: `*args` y `**kargs` 👏\n",
    "\n",
    "`*args` es un mecanismo similar. `*args`, es una *lista de argumentos de largo variable*, pero sin _keywords_ asociados. El operador `*` _desempaqueta_ el contenido de `args` y los pasa a la función como _argumentos posicionales_. La función asigna valores a sus argumentos a partir del orden que trae esta lista.\n",
    "\n",
    "`**kwargs` es una *secuencia de argumentos de largo variable*, donde cada elemento de la lista tiene asociado un ***keyword***. El operador `**` mapea los elementos contenidos en el diccionario `kwargs` y los pasa a la función como _argumentos no posicionales_."
   ]
  },
  {
   "cell_type": "markdown",
   "metadata": {},
   "source": [
    "## Arreglamos el `Academico`"
   ]
  },
  {
   "cell_type": "code",
   "execution_count": null,
   "metadata": {},
   "outputs": [],
   "source": [
    "class Investigador:\n",
    "    \n",
    "    def __init__(self, area='', **kwargs):\n",
    "        print(f\"init Investigador con area {area} y kwargs:{kwargs}\")\n",
    "        super().__init__(**kwargs)\n",
    "        self.area = area\n",
    "        self.num_publicaciones = 0\n",
    "        \n",
    "        \n",
    "class Docente:\n",
    "    \n",
    "    def __init__(self, departamento='', **kwargs):\n",
    "        print(f\"init Docente con depto {departamento} y kwargs:{kwargs}\")\n",
    "        super().__init__(**kwargs)\n",
    "        self.departamento = departamento\n",
    "        self.num_cursos = 3\n",
    "        \n",
    "        \n",
    "class Academico(Docente, Investigador):\n",
    "    \n",
    "    def __init__(self, nombre, oficina, **kwargs):\n",
    "        print(f\"init Academico con nombre {nombre}, oficina {oficina}, kwargs:{kwargs}\")\n",
    "        super().__init__(**kwargs)\n",
    "        self.nombre = nombre\n",
    "        self.oficina = oficina\n",
    "\n",
    "        \n",
    "print(Academico.__mro__)\n",
    "p1 = Academico(\"Emilia Donoso\", oficina=\"O5\", area=\"Inteligencia de Máquina\", departamento=\"Ciencia De La Computación\")\n",
    "print(\"--------\")\n",
    "print(p1.nombre)\n",
    "print(p1.area)\n",
    "print(p1.departamento)"
   ]
  },
  {
   "cell_type": "markdown",
   "metadata": {},
   "source": [
    "## Abstract Base Classes"
   ]
  },
  {
   "cell_type": "markdown",
   "metadata": {},
   "source": [
    "### ¿Qué son?\n",
    "\n",
    "Son clases que no pueden ser instanciadas, si no que permiten modelar otras clases en base a ellas. Por lo general, no son *subclasadas*, si no que de ellas \"nacen\" otras clases. Contienen uno o más **métodos abstractos** y sus **subclases** los **deben** implementar."
   ]
  },
  {
   "cell_type": "markdown",
   "metadata": {},
   "source": [
    "### ¿Por qué?\n",
    "\n",
    "Son útiles ya que permiten desarrollar **\"templates\"** para otras clases, esto asegura consistencia entre métodos que se **deban** implementar (**abstract methods**). Además, permite desarrollar métodos normales y que se hereden a sus clases hijas. \n"
   ]
  },
  {
   "cell_type": "markdown",
   "metadata": {},
   "source": [
    "### ¿Cómo se implementa?\n",
    "\n",
    "Se debe utilizar métodos del módulo **abc**.  En particular **ABC** debe ser padre de nuestra clase abstracta y para definir un método abstracto se debe importar **abstractmethod**. Como en el código que se ve a continuación: "
   ]
  },
  {
   "cell_type": "code",
   "execution_count": null,
   "metadata": {},
   "outputs": [],
   "source": [
    "from abc import ABC, abstractmethod\n",
    "\n",
    "class Base(ABC):\n",
    "    \n",
    "    def __init__(self, nombre):\n",
    "        self.nombre = nombre\n",
    "        self.contador = 0\n",
    "   \n",
    "    def metodo_1(self):\n",
    "        self.contador += 1\n",
    "\n",
    "    @abstractmethod\n",
    "    def metodo_2(self):\n",
    "        self.contador += 2"
   ]
  },
  {
   "cell_type": "markdown",
   "metadata": {},
   "source": [
    "### Ejercicios Propuestos: 3.1 - `Concurso de Hamburguesas`"
   ]
  },
  {
   "cell_type": "markdown",
   "metadata": {},
   "source": [
    "Quedan pocos días para que comience el mejor concurso de hamburguesas del país, y para eso sus organizadores te han pedido a ti que registres los datos de cada hamburguesería en el concurso y hagas de este *Top Burger* su mejor versión. Para esto debes crear una clase `Hamburgueseria`, de la que hereden los dos tipos de `Hamburgueseria` que se pueden inscribir, que son `HamburgueseriaVegana` y `HamburgueseriaCarnivora`, con los siguientes métodos:\n",
    "\n",
    "1. **`promedio_evaluaciones`**:  calcula el promedio de evaluaciones hechas a las hamburguesas del local. Una `HamburgueseriaVegana` solo ofrece versión *veggie*, mientras que la `HamburgueseriaCarnivora` solo tiene opción carnívora, así que debes retornar un `float` con el promedio de las evaluaciones. Asume que los atributos `evaluaciones_veggie` y `evaluaciones_carnivora` son listas con enteros que corresponden a las evaluaciones.\n",
    "2. **`restar_stock`**: descuenta en uno la cantidad de *stock* de un tipo de hamburguesas, es decir, altera el valor del atributo  `stock`. En el caso de ambos tipos de hamburguesería no se entregará un parámetro a esta función y solo debes restarle uno al *stock* (`stock` es un `int`).\n",
    "3. **`numero_clientes`** para ambas hamburgeserías corresponde al largo de la lista de clientes y retornarlo.\n",
    "\n",
    "Cabe recordar que en este concurso no pueden existir una `Hamburgueseria`, solo una `HamburgueseriaVegana` o una `HamburgueseriaCarnivora`.\n",
    "\n",
    "Puedes usar el siguiente código de base para la creación de las clases. Recuerda utilizar las declaraciones del módulo `abc` marcar la clase abstracta y métodos abstractos."
   ]
  },
  {
   "cell_type": "code",
   "execution_count": null,
   "metadata": {},
   "outputs": [],
   "source": [
    "from abc import ABC, abstractmethod\n",
    "\n",
    "\n",
    "class Hamburgueseria(ABC):\n",
    "    \n",
    "    def __init__ (self, clientes, stock):\n",
    "        self.stock = stock\n",
    "        self.clientes = clientes\n",
    "    \n",
    "    @abstractmethod\n",
    "    def promedio_evaluaciones(self):\n",
    "        pass\n",
    "    \n",
    "    @abstractmethod\n",
    "    def restar_stock(self):\n",
    "        pass\n",
    "          \n",
    "    def numero_clientes(self):\n",
    "        return len(self.clientes)\n",
    "    \n",
    "\n",
    "class HamburgueseriaVegana(Hamburgueseria):\n",
    "    # recuerda que deben heredar\n",
    "    \n",
    "    def __init__(self, clientes, stock, evaluaciones_veggie):\n",
    "        super().__init__(clientes, stock)\n",
    "        self.evaluaciones_veggie = evaluaciones_veggie\n",
    "    \n",
    "    def promedio_evaluaciones(self):\n",
    "        evaluaciones = self.evaluaciones_veggie\n",
    "        return sum(evaluaciones)/len(evaluaciones)\n",
    "    \n",
    "    def restar_stock(self):\n",
    "        self.stock -= 1\n",
    "\n",
    "class HamburgueseriaCarnivora:\n",
    "    #recuerda que deben heredar\n",
    "    \n",
    "    def __init__(self, clientes, stock, evaluaciones_carnivora):\n",
    "        super().__init__(clientes, stock)\n",
    "        self.evaluaciones_carnivora = evaluaciones_carnivora\n",
    "        \n",
    "    \n",
    "    def promedio_evaluaciones(self):\n",
    "        evaluaciones = self.evaluaciones_carnivora\n",
    "        return sum(evaluaciones)/len(evaluaciones)\n",
    "    \n",
    "    def restar_stock(self):\n",
    "        self.stock -= 1"
   ]
  },
  {
   "cell_type": "markdown",
   "metadata": {},
   "source": [
    "## Actividad 🙌\n",
    "\n",
    "El recien inagurado DCCorral acaba de recibir su primer kit de instanciación de animales. Ese contine una clase abastracta `Animal` la cual está definida más abajo y puede ser utilizada para formar cualquier animal del mundo.\n",
    "\n",
    "Los científicos del DCCorral se han dispuesto que necesitan mostrar uno de los animales más fantásticos que se pueda haber visto, un **Zebrasno**. Este raro animal, como describe *Charles Darwin* se produce por la cruza de una Cebra y un Asno, por lo tanto, será necesario que ayudes a los científicos a recrear esta especie Zebrasno mediante la creación de la especie **Cebra** y la especia **Asno**, modelandolas como clases."
   ]
  },
  {
   "cell_type": "code",
   "execution_count": null,
   "metadata": {},
   "outputs": [],
   "source": [
    "from abc import ABC, abstractmethod\n",
    "\n",
    "class Animal(ABC):\n",
    "    def __init__(self, numero_patas, piel, pulmones, aletas, *args, **kargs):\n",
    "        self.numero_patas = numero_patas\n",
    "        self.piel = piel\n",
    "        self.pulmones = pulmones\n",
    "        self.aletas = aletas\n",
    "    \n",
    "    @abstractmethod\n",
    "    def voz(self):\n",
    "        pass\n",
    "    \n",
    "    @abstractmethod\n",
    "    def caminar(self):\n",
    "        pass\n",
    "    \n",
    "    @abstractmethod\n",
    "    def comer(self):\n",
    "        pass"
   ]
  },
  {
   "cell_type": "markdown",
   "metadata": {},
   "source": [
    "Para entender un poco mejor la clase `Animal`, está está definida como una clase abstracta que recibe los agumentos\n",
    "* `numero_patas`: un `int` que indica el número de patas del animal.\n",
    "* `pelaje`: un `str` que indica el tipo de pelaje que posee el animal.\n",
    "* `pulmones`: un `boolean` que indica la presencia de pulmones.\n",
    "* `aletas`: un `int` que indica la cantidad de aletas.\n",
    "\n",
    "También, como todo animal, posee los métodos\n",
    "* `voz`: que imprime el sonido del animal.\n",
    "* `caminar`: que imprime la forma de caminar del animal.\n",
    "* `comer`: que imprime como come el animal.\n",
    "\n",
    "Para poder llegar a crear la clase `Zebrasno` es necesario definir primero las siguientes clases de animales:\n",
    "\n",
    "**`Cebra`:**\n",
    "\n",
    "   Este animal posee 4 patas, pelos en la piel y un sistema respiratorio pulmonar.<br>\n",
    "   Además, para definir esta clase, es necesario agregar el atributo `rayas` que indique el tipo de rayas que posee, esto debe ser recibido por el constructor como un argumento.\n",
    "    \n",
    "* Su voz es un relincho que debe decir `\"HIN!! Tengo un pelaje con\" + {atributo rayas}`.<br>\n",
    "* Al caminar debe indicar `\"Tas, Tas, Tas. Camino sin herraduras\"`.<br>\n",
    "* Al comer debe indicar `\"Me encanta la hierba y la corteza de los árboles\"`.<br>\n",
    "    \n",
    "**`Asno`:**\n",
    "  \n",
    "   Este animal posee 4 patas, pelos en la piel y un sistema respiratorio pulmonar.<br>\n",
    "* Su voz es un relincho que debe deci `\"¡Hiaaaa, hiaaaa! Soy un Asno de laboratorio\"`.<br>\n",
    "* Al caminar debe indicar `\"Tas, Tas, Tas. Camino sin herraduras\"`.<br>\n",
    "* Al comer debe indicar `\"Siempre como pasto y arbustos fibrosos!\"`.<br>"
   ]
  },
  {
   "cell_type": "code",
   "execution_count": null,
   "metadata": {},
   "outputs": [],
   "source": [
    "class Cebra(Animal):\n",
    "    def __init__(self, rayas, *args, **kargs):\n",
    "        super().__init__(4, \"pelo\", True, 0, *args, **kargs)\n",
    "        self.rayas = rayas\n",
    "        \n",
    "    def voz(self):\n",
    "        print(f\"HIN!! Tengo un pelaje con {self.rayas}\")\n",
    "    \n",
    "    def caminar(self):\n",
    "        print(\"Tas, Tas, Tas. Camino sin herraduras\")\n",
    "    \n",
    "    def comer(self):\n",
    "        print(\"Me encanta la hierba y la corteza de los árboles\")\n",
    "\n",
    "        \n",
    "class Asno(Animal):\n",
    "    def __init__(self, *args, **kargs):\n",
    "        super().__init__(4, \"pelo\", True, 0, *args, **kargs)\n",
    "    \n",
    "    def voz(self):\n",
    "        print(\"¡Hiaaaa, hiaaaa! Soy un Asno de laboratorio\")\n",
    "    \n",
    "    def caminar(self):\n",
    "        print(\"Tas, Tas, Tas. Camino sin herraduras\")\n",
    "    \n",
    "    def comer(self):\n",
    "        print(\"Siempre como pasto y arbustos fibrosos!\")"
   ]
  },
  {
   "cell_type": "markdown",
   "metadata": {},
   "source": [
    "Por último, los cinetíficos del DCCorral ya están listos para recrear la gran especie `Zebrasno` como hijo de las dos especies anteriores. Siguiendo las siguientes especificacones:\n",
    "\n",
    "   Este animal posee 4 patas, pelos en la piel y un sistema respiratorio pulmonar.<br>\n",
    "* Sus rayas son del tipo `\"rayas en las patas y cuello\"`.\n",
    "* Su voz es un relincho igual que el de `Cebra`.<br>\n",
    "* Al caminar lo hace igual que `Asno` y `Cebra`.<br>\n",
    "* Al comer debe decir lo que dicen ambos, `Asno` y `Cebra`.<br>"
   ]
  },
  {
   "cell_type": "code",
   "execution_count": null,
   "metadata": {},
   "outputs": [],
   "source": [
    "class Zebrasno(Cebra, Asno):\n",
    "    def __init__(self):\n",
    "        super().__init__(rayas=\"rayas en las patas y cuello\")\n",
    "        \n",
    "    def comer(self):\n",
    "        Asno.comer(self)\n",
    "        Cebra.comer(self)"
   ]
  },
  {
   "cell_type": "code",
   "execution_count": null,
   "metadata": {},
   "outputs": [],
   "source": [
    "nuevo = Zebrasno()\n",
    "print(\"El Zebrasno se oye así:\")\n",
    "nuevo.voz()\n",
    "print(\"\\nEl Zebrasno está comiendo:\")\n",
    "nuevo.comer()\n",
    "print(\"\\nAhora el Zebrasno está caminando:\")\n",
    "nuevo.caminar()"
   ]
  }
 ],
 "metadata": {
  "kernelspec": {
   "display_name": "Python 3",
   "language": "python",
   "name": "python3"
  },
  "language_info": {
   "codemirror_mode": {
    "name": "ipython",
    "version": 3
   },
   "file_extension": ".py",
   "mimetype": "text/x-python",
   "name": "python",
   "nbconvert_exporter": "python",
   "pygments_lexer": "ipython3",
   "version": "3.7.4"
  }
 },
 "nbformat": 4,
 "nbformat_minor": 2
}
