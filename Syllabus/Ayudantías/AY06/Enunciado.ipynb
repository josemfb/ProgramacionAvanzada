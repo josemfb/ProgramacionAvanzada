{
 "cells": [
  {
   "cell_type": "markdown",
   "metadata": {
    "colab_type": "text",
    "id": "uwoxNsJF2MrE"
   },
   "source": [
    "# Ayudantía 06: Threading\n",
    "\n",
    "## Autores: [@jfuentesg26](https://github.com/) & [@javi-saavedra](https://github.com/javi-saavedra) \n",
    "\n",
    "\n",
    "Recuerda que puedes evaluar la ayudantía en [este link](https://forms.gle/Udw8PNXGuNUB4CPS9)"
   ]
  },
  {
   "cell_type": "markdown",
   "metadata": {
    "colab_type": "text",
    "id": "fX8s8kXN3dfE"
   },
   "source": [
    "# Threads 😏\n",
    "Unidades pequeñas que pueden ser programadas para ser ejecutadas en un sistema operativo. \n",
    "Los \"hilos\" de un mismo proceso comparten memoria y estado de variables esto permite que se ejecuten mas rápido "
   ]
  },
  {
   "cell_type": "markdown",
   "metadata": {
    "colab_type": "text",
    "id": "nyg_Z4NgNno4"
   },
   "source": [
    "# Ilusión o realidad 😨\n",
    "La verdad es que se simula la ejecucación en paralelo, lo que de verdad pasa es un **thread scheduling** o **time slicing**, esto es:\n",
    "\n",
    "1.- Escoger un thread en espera\n",
    "\n",
    "2.- Ejecutar algunas instrucciones de él\n",
    "\n",
    "3.- Dejarlo en espera\n",
    "\n",
    "4.- Volver al paso 1\n"
   ]
  },
  {
   "cell_type": "markdown",
   "metadata": {
    "colab_type": "text",
    "id": "S2x5fv30Owos"
   },
   "source": [
    "# ¿Cómo crear threads?\n",
    "Primero debemos importar la librería **threading** que nos permite crear nuestros propios \"hilos\" con la clase **Thread** "
   ]
  },
  {
   "cell_type": "code",
   "execution_count": 0,
   "metadata": {
    "colab": {},
    "colab_type": "code",
    "id": "Y9qEQFfLP5Iy"
   },
   "outputs": [],
   "source": [
    "import threading \n",
    "\n",
    "mi_hilo = threading.Thread(target = funcion, name = \"HILO1\")\n",
    "mi_hilo.start()"
   ]
  },
  {
   "cell_type": "markdown",
   "metadata": {
    "colab_type": "text",
    "id": "UGHIn3x4QJmb"
   },
   "source": [
    "Creamos una instancia de esta clase llamada mi_hilo, podemos entregarle un parámetro *target*, el cuál sera la función a ejecutar. Para poder iniciar el thread debemos utilizar **start()**.\n",
    "\n",
    "Es importante recordar que este tipo de threads solo funciona **una vez**, para volver a usarlo hay que instanciarlo de nuevo.\n",
    "\n",
    "Además tenemos el parámetro *name* que nos permite nombrar a nuestros threads y podemos saber cuál se esta ejecutanto con la siguiente función:"
   ]
  },
  {
   "cell_type": "code",
   "execution_count": 0,
   "metadata": {
    "colab": {},
    "colab_type": "code",
    "id": "23Nys66AUHRb"
   },
   "outputs": [],
   "source": [
    "thread_actual = threading.current_thread()\n",
    "nombre_thread = thread_actual.name"
   ]
  },
  {
   "cell_type": "markdown",
   "metadata": {
    "colab_type": "text",
    "id": "zUQ1S_qSUfnH"
   },
   "source": [
    "**¿Qué es el thread principal?**\n",
    "El hilo que ejecuta el flujo principal del programa y todo proceso lo tiene, su nombre es **MainThread**"
   ]
  },
  {
   "cell_type": "markdown",
   "metadata": {
    "colab_type": "text",
    "id": "yqm9vZ_tVpyJ"
   },
   "source": [
    "\n",
    "\n",
    "# ¡CUIDADO! 😱 *prints extraños*\n",
    "\n",
    "Es probable que al ejecutar print falten o sobran saltos de línea. \n",
    "\n",
    "Esto ocurre por que (a nivel de máquina) escribir el texto del print y escribir el salto de línea son dos instrucciones distintas. Por lo tanto, es posible que un thread imprima el texto, se pause ese thread, luego otro thread imprima su texto y su respectivo salto de línea, y luego al volver al primer thread este imprima el salto de línea que faltaba.\n"
   ]
  },
  {
   "cell_type": "markdown",
   "metadata": {
    "colab_type": "text",
    "id": "IEDVg6d7Yqob"
   },
   "source": [
    "# ¿Y si nuestra función recibe parámetros? 😲\t\n",
    "**No hay problema!** Utilizamos args y kwargs para darle los parámetros al thread, mira este ejemplo:"
   ]
  },
  {
   "cell_type": "code",
   "execution_count": 0,
   "metadata": {
    "colab": {},
    "colab_type": "code",
    "id": "Q_9Gd3-NZ4sL"
   },
   "outputs": [],
   "source": [
    "import threading\n",
    "import time\n",
    "\n",
    "def contar_ovejas_hasta(max_ovejas):\n",
    "    thread_actual = threading.current_thread()\n",
    "    print(f\"{thread_actual.name} tiene sueño...\")\n",
    "    for numero in range(1, max_ovejas + 1):\n",
    "        time.sleep(1)\n",
    "        print(f\"({thread_actual.name}: {numero} oveja{'s' if numero > 1 else ''})\")\n",
    "    print(f\"{thread_actual.name} a dormir...\")\n",
    "\n",
    "\n",
    "# Se crean los threads usando la clase Thread, asociada a la función objetivo para \n",
    "# ser ejecutada por el thread, y los atributos de la función son ingresados en \n",
    "# args o kwargs\n",
    "\n",
    "t1 = threading.Thread(name=\"Thread 1\", target=contar_ovejas_hasta, args=(10,))\n",
    "t2 = threading.Thread(name=\"Thread 2\", target=contar_ovejas_hasta, kwargs={\"max_ovejas\": 15})\n",
    "t1.start()\n",
    "t2.start()"
   ]
  },
  {
   "cell_type": "markdown",
   "metadata": {
    "colab_type": "text",
    "id": "XRM5kDS1aD3x"
   },
   "source": [
    "# ¿ Y si ocupamos OOP? 😍\n",
    "**Que gran idea!** Podemos hacer clases para threads con comportamientos similares, esta clase debe heredar de la clase Thread. \n",
    "*¿Cómo lo hacemos* \n",
    "\n",
    "Debemos hacer un *__init__* en donde se hereda y hacer *override* al método **run** de la clase madre, para que cuando hagamos **start** este se ejecute y realiza las acciones que nosotros queramos :scream_cat:\n",
    "\n",
    "Veamos un ejemplo:\n"
   ]
  },
  {
   "cell_type": "code",
   "execution_count": 0,
   "metadata": {
    "colab": {},
    "colab_type": "code",
    "id": "EtakT2f1bs6Z"
   },
   "outputs": [],
   "source": [
    "import threading\n",
    "import time\n",
    "        \n",
    "class CuentaLiebres(threading.Thread): # Hereda de Thread\n",
    "\n",
    "    def __init__(self, nombre, max_liebres):\n",
    "        super().__init__(name=nombre) \n",
    "        self.max_liebres = max_liebres\n",
    "    \n",
    "    def run(self):\n",
    "        print(f\"{self.name} tiene sueño...\")\n",
    "        tiempo_partida = time.time()\n",
    "        for numero in range(1, self.max_liebres + 1):\n",
    "            if numero % 2 == 1:\n",
    "                time.sleep(1)\n",
    "            print(f\"({self.name}: {numero} liebre{'s' if numero > 1 else ''})\")\n",
    "        print(f\"{self.name} a dormir...\")\n",
    "        print(f\"{self.name} se durmió después de {time.time() - tiempo_partida} seg.\")\n",
    "        \n",
    "\n",
    "# Se crean el thread\n",
    "cuenta_liebres = CuentaLiebres(\"Antonio\", 10)\n",
    "\n",
    "# Se inicializa el thread creado\n",
    "cuenta_liebres.start()\n"
   ]
  },
  {
   "cell_type": "markdown",
   "metadata": {
    "colab_type": "text",
    "id": "69UiGb2b7seQ"
   },
   "source": [
    "# **join()** ⏰\n",
    "\n",
    "Si queremos que el programa principal espere a algun thread usamos éste método, despues de haber iniciado el hilo con start().\n",
    "\n",
    "Podemos usar join(timeout = segundos) si queremos que el programa espere al thread por una cantidad definida de segundos o join(timeout = None) para que el programa espere al thread hasta que termine de ejecutarse.\n",
    "\n",
    "El **thread que llama al método** queda bloqueado hasta que los threads referenciados terminen correctamente (o pase el tiempo establecido).\n"
   ]
  },
  {
   "cell_type": "markdown",
   "metadata": {
    "colab_type": "text",
    "id": "4omRzmJRAE_6"
   },
   "source": [
    "# **is_alive()** 🥳\n",
    "\n",
    "Es posible identificar si un thread todavía está en funcionamiento mediante el uso del método is_alive(). Por lo general este método se implementa para saber el estado del thread después del uso de join(), al cual se le ha definido su tiempo máximo de espera."
   ]
  },
  {
   "cell_type": "markdown",
   "metadata": {
    "colab_type": "text",
    "id": "xm-5shYeA0Z2"
   },
   "source": [
    "\n",
    "### **Ahora veamos un ejemplo del uso de estos dos métodos**\n",
    "\n",
    "En el siguiente ejemplo vemos como el *Main Thread* espera a los threads antonio y vicente. Además se comprueba si vicente sigue ejecutandose."
   ]
  },
  {
   "cell_type": "code",
   "execution_count": 0,
   "metadata": {
    "colab": {},
    "colab_type": "code",
    "id": "rxl83mqwAj8b"
   },
   "outputs": [],
   "source": [
    "\n",
    "import threading\n",
    "import time\n",
    "\n",
    "\n",
    "# Usamos la definicion de los Thread declarados en el ejemplo anterior\n",
    "# Se crean los threads usando la clase Thread.\n",
    "antonio = CuentaLiebres(\"Antonio\", 3)\n",
    "vicente = CuentaLiebres(\"Vicente\", 15)\n",
    "\n",
    "# Se inicializan los threads creados\n",
    "antonio.start()\n",
    "vicente.start()\n",
    "print(\"Ayudantes: Los profes se fueron a la cama...\")\n",
    "\n",
    "antonio.join()  # Esperaremos lo que sea necesario.\n",
    "print(\"Ayudantes: ¡ANTONIO SE DURMIÓ!\")\n",
    "vicente.join(1)  # Esperaremos máximo 1 segundos después del último dormido, ya es muy tarde\n",
    "\n",
    "if vicente.is_alive():\n",
    "    print(\"Ayudantes: Vicente sigue despierto 😞. A la casa cabros.\")\n",
    "else:\n",
    "    print(\"Ayudantes: ¡Todos los profes se durmieron! ¡A festejar!\")\n",
    "    for i in range(10):\n",
    "        print(\"Ayudantes: 🎵🎶🎵🎶🎵🎶🎵🎶🎵🎶🎵🎶🎵🎶🎵🎶\")\n",
    "        time.sleep(1)"
   ]
  },
  {
   "cell_type": "markdown",
   "metadata": {
    "colab_type": "text",
    "id": "qUMV2E_GBLlp"
   },
   "source": [
    "# **Daemons threads** 🙌\n",
    "Anteriormente el programa ha esperado que terminen los threads para poder terminar. \n",
    "\n",
    "Con los *Daemons threads* no necesitamos preocuparnos de si terminaron o no, ya que cuando el programa principal termina, estos terminan automaticamente.\n",
    "\n",
    "Así el programa termina cuando todos los threads no-daemons se hayan terminado.\n",
    "\n",
    "Para identificar que los threads son de este tipo debemos poner en el constructor **daemon = True**.\n",
    "\n",
    "Podemos hacer que el programa espere a un daemon thread con el método join, de la misma forma antes explicada. \n",
    "\n",
    "Un dato importante es que luego de iniciar un thread con start, no puedes cambiarlo de daemon thread a thread (o viceversa), ya que saldrá un error del tipo *RuntimeError*-\n",
    "\n",
    "Veamos dos ejemplos, el primero llamando a la clase Thread directamente y el otro con OOP (recuerda que estos códigos tienen problemas corriendo en jupyter notebook así que es mejor que los pruebas desde tu consola)\n",
    "\n",
    "\n"
   ]
  },
  {
   "cell_type": "code",
   "execution_count": 0,
   "metadata": {
    "colab": {},
    "colab_type": "code",
    "id": "DpLadan-EI48"
   },
   "outputs": [],
   "source": [
    "\n",
    "import threading\n",
    "import time\n",
    "\n",
    "\n",
    "def dormilon():\n",
    "    print(f\"{threading.current_thread().name} tiene sueño...\")\n",
    "    time.sleep(2)\n",
    "    print(f\"{threading.current_thread().name} se durmió.\")\n",
    "\n",
    "    \n",
    "def con_insonmio():\n",
    "    print(f\"{threading.current_thread().name} tiene sueño...\")\n",
    "    time.sleep(10)\n",
    "    print(f\"{threading.current_thread().name} se durmió.\")\n",
    "\n",
    "\n",
    "# Forma 1 de hacer un thread daemon\n",
    "dormilon = threading.Thread(name=\"Dormilón\", target=dormilon, daemon=True)\n",
    "# Forma 2 de hacer un thread daemon\n",
    "con_insomnio = threading.Thread(name=\"Con insonmio\", target=con_insonmio)\n",
    "con_insomnio.daemon = True\n",
    "\n",
    "# Se inicializan los threads\n",
    "dormilon.start()\n",
    "con_insomnio.start()"
   ]
  },
  {
   "cell_type": "code",
   "execution_count": 0,
   "metadata": {
    "colab": {},
    "colab_type": "code",
    "id": "3sxO7wykEKJR"
   },
   "outputs": [],
   "source": [
    "import threading\n",
    "class Daemon(threading.Thread):\n",
    "    \n",
    "    def __init__(self):\n",
    "        super().__init__()\n",
    "        # Cuando inicializamos el thread lo declaramos como daemon\n",
    "        self.daemon = True\n",
    "    \n",
    "    def run(self):\n",
    "        print(\"Daemon thread: Empezando...\")\n",
    "        time.sleep(2)\n",
    "        print(\"Daemon thread: Terminando...\")\n",
    "\n",
    "daemon = Daemon()\n",
    "daemon.start()\n",
    "daemon.join()"
   ]
  },
  {
   "cell_type": "markdown",
   "metadata": {
    "colab_type": "text",
    "id": "7VTaew47EXk1"
   },
   "source": [
    "# **Timers** ⌛️\n",
    "Subclase de Thread, la cual al ser ejecutado espera un tiempo en segundos indicado y luego realiza las instrucciones determinadas. \n",
    "\n",
    "Poseen un método **cancel()** para cancelar su ejecución.\n",
    "\n",
    "Se deben entregar como parámetros el tiempo en segundos, la función y los parametros requeridos por esta.\n"
   ]
  },
  {
   "cell_type": "code",
   "execution_count": 0,
   "metadata": {
    "colab": {},
    "colab_type": "code",
    "id": "EDYKMiAsgCDN"
   },
   "outputs": [],
   "source": [
    "def mi_timer(ruta_archivo):\n",
    "    with open(ruta_archivo) as archivo:\n",
    "        for linea in archivo:\n",
    "            print(linea)\n",
    "\n",
    "t1 = threading.Timer(10.0, mi_timer, args=(\"files/mensaje_01.txt\",))\n",
    "t2 = threading.Timer(5.0, mi_timer, kwargs={\"ruta_archivo\": \"files/mensaje_02.txt\"})\n",
    "\n",
    "t1.start() # el thread t comenzará después de 10 seconds\n",
    "t2.start() # el thread t comenzará después de 5 seconds"
   ]
  },
  {
   "cell_type": "markdown",
   "metadata": {
    "colab_type": "text",
    "id": "P__FqUFvhlUi"
   },
   "source": [
    "# **Mecanismos de Sincronización** ⏱\n",
    "Cuando más de un thread debe compartir el acceso a determinados recursos (archivos, variables, etc) de manera **concurrente** se nos pueden generar errores, ya que no sabemos como se entremezclan los threads ni tampoco cuando su operación es pausada. \n",
    "\n",
    "Es por esto que el código que sigue a continuación no entrega el resultado correcto: "
   ]
  },
  {
   "cell_type": "code",
   "execution_count": 0,
   "metadata": {
    "colab": {},
    "colab_type": "code",
    "id": "af5SKmTwjSbp"
   },
   "outputs": [],
   "source": [
    "import threading\n",
    "\n",
    "class Contador: \n",
    "    def __init__(self):\n",
    "        self.valor = 0\n",
    "\n",
    "        \n",
    "def sumador(contador):\n",
    "    for _ in range(10 ** 6):\n",
    "        contador.valor += 1\n",
    "\n",
    "\n",
    "contador = Contador()        \n",
    "t1 = threading.Thread(target=sumador, args=(contador,))\n",
    "t2 = threading.Thread(target=sumador, args=(contador,))\n",
    "\n",
    "t1.start()\n",
    "t2.start()\n",
    "t1.join()\n",
    "t2.join()\n",
    "\n",
    "print(\"Listo, nuestro contador vale\", contador.valor)"
   ]
  },
  {
   "cell_type": "markdown",
   "metadata": {
    "colab_type": "text",
    "id": "zIEa8qCfjfeJ"
   },
   "source": [
    "Esto ocurre ya que no nos aseguramos de que la operación sea **atómica**, es decir, que ningún thread la pueda iniciar a menos que ningún otro la esté haciendo. Al conjunto de instrucciones atómicas se le denomina sección crítica.\n",
    "\n",
    "Para arreglar estos problemas tenemos los mecanismos de sincronización."
   ]
  },
  {
   "cell_type": "markdown",
   "metadata": {
    "colab_type": "text",
    "id": "cdOEqaT2knOM"
   },
   "source": [
    "#  **Lock** 🔐\n",
    "La clase **Lock** de la librería threading permite que haya un solo thread en una sección crítica a la vez.\n",
    "Estos locks pueden estar desbloqueados (inicialmente) o bloqueados. \n",
    "La función **acquire()** permite adquirir el lock por parte de un thread y dejarlo bloqueado para los otros. \n",
    "Por su parte la función **release()** libera el lock (lo desbloquea) , quedando disponible para que cualquier thread pueda adquirirlo. \n",
    "\n",
    "A continuación un ejemplo: (*Recuerda correrlo en consola*)\n"
   ]
  },
  {
   "cell_type": "code",
   "execution_count": 0,
   "metadata": {
    "colab": {},
    "colab_type": "code",
    "id": "wSTMbJEnnaj3"
   },
   "outputs": [],
   "source": [
    "import threading\n",
    "\n",
    "\n",
    "lock_global = threading.Lock()\n",
    "\n",
    "def sumador_con_seccion_critica(contador):\n",
    "    for _ in range(10 ** 6):\n",
    "        # Pedimos el lock antes de entrar a la sección crítica.\n",
    "        lock_global.acquire()\n",
    "        # --- Sección crítica ---. \n",
    "        # Está garantizado que en estas líneas sólo habrá un thread a la vez.\n",
    "        contador.valor += 1\n",
    "        # --- Fin de la sección crítica ---.\n",
    "        # Liberamos el lock luego de salir de la sección crítica.\n",
    "        lock_global.release()\n",
    "contador = Contador()        \n",
    "t1 = threading.Thread(target=sumador_con_seccion_critica, args=(contador,))\n",
    "t2 = threading.Thread(target=sumador_con_seccion_critica, args=(contador,))\n",
    "\n",
    "t1.start()\n",
    "t2.start()\n",
    "t1.join()\n",
    "t2.join()\n",
    "\n",
    "print(\"Listo, nuestro contador vale\", contador.valor)"
   ]
  },
  {
   "cell_type": "markdown",
   "metadata": {
    "colab_type": "text",
    "id": "mGbNQrLmn5_e"
   },
   "source": [
    "Otra forma de hacerlo sin usar release y acquire es con **with** como muestra el ejemplo:"
   ]
  },
  {
   "cell_type": "code",
   "execution_count": 0,
   "metadata": {
    "colab": {},
    "colab_type": "code",
    "id": "UdMedZsBn487"
   },
   "outputs": [],
   "source": [
    "import time\n",
    "\n",
    "\n",
    "lock_global = threading.Lock()\n",
    "\n",
    "def sumador(contador):\n",
    "    nombre = threading.current_thread().name\n",
    "    for _ in range(10):\n",
    "        with lock_global:\n",
    "            # --- Sección crítica ---. \n",
    "            # Está garantizado que en estas líneas sólo habrá un thread a la vez.\n",
    "            valor = contador.valor\n",
    "            print(f\"{nombre}: lee {valor}\")\n",
    "            nuevo_valor = valor + 1\n",
    "            print(f\"{nombre}: suma 1 => {nuevo_valor}\")\n",
    "            contador.valor = nuevo_valor\n",
    "            print(f\"{nombre}: guarda {nuevo_valor}\")\n",
    "            time.sleep(1)\n",
    "            # --- Fin de la sección crítica ---.\n",
    "\n",
    "contador = Contador()        \n",
    "t1 = threading.Thread(name=\"T1\", target=sumador, args=(contador,))\n",
    "t2 = threading.Thread(name=\"T2\", target=sumador, args=(contador,))\n",
    "\n",
    "t1.start()\n",
    "t2.start()\n",
    "t1.join()\n",
    "t2.join()"
   ]
  },
  {
   "cell_type": "markdown",
   "metadata": {
    "colab_type": "text",
    "id": "XjAEXaE4kwTi"
   },
   "source": [
    "# **Señales entre threads** 📡\n",
    "Nos ayudan cuando queremos que el thread espere hasta que cierto suceso ocurra. \n",
    "\n",
    "Para esto recibimos ayuda de los objetos **Event**. \n",
    "\n",
    "¿Cómo funciona? Un thread hace la señal y otros lo esperan. \n",
    "\n",
    "Los *Event* poseen un flag interno, el cual toma valor *True* cuando la señal esta activa y *False* cuando no.\n",
    "\n",
    "Para que los thread esperen la señal utilizamos el método **wait()** y para hacer la señal llamamos al método **set()** lo que deja el *flag del Event* en *True*. Si queremos resetear la señal usamos **clear()** para hacer el flag igual a *False*.\n",
    "\n",
    "Veamos un ejemplo:"
   ]
  },
  {
   "cell_type": "code",
   "execution_count": 0,
   "metadata": {
    "colab": {},
    "colab_type": "code",
    "id": "nl_7el7qpu88"
   },
   "outputs": [],
   "source": [
    "# Ejemplo sacado de http://zulko.github.io/blog/2013/09/19/a-basic-example-of-threads-synchronization-in-python/\n",
    "\n",
    "import threading\n",
    "import time\n",
    "\n",
    "\n",
    "# Tenemos dos eventos o señales.\n",
    "# Esta es para avisar que el video ya está listo para ser reproducido.\n",
    "video_cargado = threading.Event()\n",
    "# Esta es para avisar que el audio ya está listo para ser reproducido.\n",
    "audio_cargado = threading.Event()\n",
    "\n",
    "def reproducir_video(nombre):\n",
    "    print(f\"Cargando video {nombre} en t={time.time():.6f}\")\n",
    "    # Supongamos que se demora 3 segundos\n",
    "    time.sleep(3)\n",
    "    print(f\"¡Video cargado! en t={time.time():.6f}\")\n",
    "    # Avisamos que el video ya está cargado\n",
    "    video_cargado.set()\n",
    "    # Esperamos a que el audio ya se haya cargado\n",
    "    audio_cargado.wait()\n",
    "    # ¡Listo!\n",
    "    print(f\"Reproduciendo video en t={time.time():.6f}\")\n",
    "    \n",
    "    \n",
    "def reproducir_audio(nombre):\n",
    "    print(f\"Cargando audio {nombre} en t={time.time():.6f}\")\n",
    "    # Supongamos que se demora 5 segundos\n",
    "    time.sleep(5)\n",
    "    print(f\"¡Audio cargado! en t={time.time():.6f}\")\n",
    "    # Avisamos que el audio ya está cargado\n",
    "    audio_cargado.set()\n",
    "    # Esperamos a que el video ya se haya cargado\n",
    "    video_cargado.wait()\n",
    "    # ¡Listo!\n",
    "    print(f\"Reproduciendo audio en t={time.time():.6f}\")\n",
    "    \n",
    "    \n",
    "t1 = threading.Thread(target=reproducir_audio, args=(\"'No Te Enamores' - Paloma Mami\",))\n",
    "t2 = threading.Thread(target=reproducir_video, args=(\"'No Te Enamores' - Paloma Mami\",))\n",
    "\n",
    "t1.start()\n",
    "t2.start()\n",
    "\n",
    "t1.join()\n",
    "t2.join()"
   ]
  },
  {
   "cell_type": "markdown",
   "metadata": {
    "colab_type": "text",
    "id": "EU7V5o08kze9"
   },
   "source": [
    "# **DeadLocks** 🧛‍ 🔒\n",
    "\n",
    "También llamado interbloqueo hace referencia al error en donde dos threads se esperan mutuamente, por lo que ninguno de los dos avanza.\n",
    "\n",
    "Por lo que al programar debes tener cuidado para que esto no pase."
   ]
  },
  {
   "cell_type": "markdown",
   "metadata": {
    "colab_type": "text",
    "id": "BI4-B5VY3A78"
   },
   "source": [
    "# **Ejercicio Propuesto**  👩🏾‍💻\n",
    "Leyendo por internet, has encontrado el trabajo perfecto para ti. Te han contratado para simular la recolección de materiales de la DCCueva. Aquí trabajan mineros pero de manera poco óptima, perdiendo DCCriptoMonedas y provocando grandes pérdidas para el DCC.\n",
    "\n",
    "En tu primer día, se te entrega el código base que han estado utilizando para simular la recolección dentro de la DCCueva:"
   ]
  },
  {
   "cell_type": "code",
   "execution_count": 0,
   "metadata": {
    "colab": {},
    "colab_type": "code",
    "id": "AiVtkTR_8pOi"
   },
   "outputs": [],
   "source": [
    "import time\n",
    "import random\n",
    "\n",
    "class Minero:\n",
    "\n",
    "    def __init__(self, nombre):\n",
    "        self.nombre = nombre\n",
    "        self.velocidad = random.randint(2, 4)\n",
    "        self.cantidad = 0\n",
    "        self.adentro = False\n",
    "\n",
    "    def recolectar_recursos(self):\n",
    "        cantidad = random.randint(5, 15)\n",
    "        tiempo = cantidad/self.velocidad\n",
    "        self.adentro = True\n",
    "        time.sleep(tiempo)\n",
    "        print(f'Trabajador {self.nombre} ha recolectado {cantidad} DCCriptoMonedas')\n",
    "        self.cantidad += cantidad\n",
    "        self.adentro = False\n",
    "\n",
    "    def trabajar(self):\n",
    "        for i in range(3):\n",
    "            print(f'Trabajador {self.nombre} ha entrado a la DCCueva')\n",
    "            self.recolectar_recursos()\n",
    "\n",
    "\n",
    "t1 = Minero('John')\n",
    "t2 = Minero('Alex')\n",
    "t3 = Minero('Peter')\n",
    "\n",
    "t1.trabajar()\n",
    "t2.trabajar()\n",
    "t3.trabajar()\n",
    "\n",
    "total = t1.cantidad + t2.cantidad + t3.cantidad\n",
    "print('------------------------------------------')\n",
    "print(f'Se han recolectado {total} DCCriptoMonedas')"
   ]
  },
  {
   "cell_type": "markdown",
   "metadata": {
    "colab_type": "text",
    "id": "9BM715ec8oXr"
   },
   "source": [
    "Modela el ejercicio anterior de modo que ahora el programa se ejecute de manera concurrente (Threads)."
   ]
  },
  {
   "cell_type": "code",
   "execution_count": 0,
   "metadata": {
    "colab": {},
    "colab_type": "code",
    "id": "Xnx491eU822d"
   },
   "outputs": [],
   "source": [
    "import time\n",
    "import random\n",
    "from threading import Thread\n",
    "\n",
    "#Implementar modelacion con Thread\n",
    "class Minero():\n",
    "\n",
    "    def __init__(self, nombre):\n",
    "        #Completar clase\n",
    "\n",
    "    def recolectar_recursos(self):\n",
    "        cantidad = random.randint(5, 15)\n",
    "        tiempo = cantidad/self.velocidad\n",
    "        self.adentro = True\n",
    "        time.sleep(tiempo)\n",
    "        print(f'Trabajador {self.nombre} ha recolectado {cantidad} DCCriptoMonedas')\n",
    "        self.cantidad += cantidad\n",
    "        self.adentro = False\n",
    "\n",
    "    def trabajar(self): #Puedes modificarlo si quieres trabajar con herencia ;)\n",
    "        #Completar metodo\n",
    "\n",
    "\n",
    "t1 = Minero('John') #Eres libre de modificar los nombres\n",
    "t2 = Minero('Alex') #Eres libre de modificar los nombres\n",
    "t3 = Minero('Peter') #Eres libre de modificar los nombres :)\n",
    "\n",
    "t1.start()\n",
    "t2.start()\n",
    "t3.start()\n",
    "\n",
    "total = t1.cantidad + t2.cantidad + t3.cantidad\n",
    "print('------------------------------------------')\n",
    "print(f'Se han recolectado {total} DCCriptoMonedas')"
   ]
  },
  {
   "cell_type": "markdown",
   "metadata": {
    "colab_type": "text",
    "id": "NMGCGR7g9XK_"
   },
   "source": [
    "# **Actividad** 🎉"
   ]
  },
  {
   "cell_type": "markdown",
   "metadata": {
    "colab_type": "text",
    "id": "Z8bnON3fI-wl"
   },
   "source": [
    "Bajo el contexto nacional las ayudantes que prepararon esta ayudantía (**Las Javis**) se pusieron de acuerdo para que una de ellas revisara y preparara el contenido de la ayudantía de *Threading*, mientras que otra prepara el ejercicio que se realizaría en esta. Cuando alguna de ellas termina de preparar el contenido o ejercicio de una temática específica de la ayudantía debe escribirlo en *DCCuaderno Virtual*. Sin embargo, se ha hayado un gran problema en la plataforma, las ayudantes **no pueden escribir al mismo tiempo** dentro de este y cada una demora un tiempo específico en escribir lo preparado, entonces, si una ayudante está escribiendo la otra debe esperar ese tiempo para escribir su parte. \n",
    "\n",
    "Las Javis deben terminar lo más pronto posible la ayudantía, por lo que solicitan tu ayuda para terminarla de una vez por todas 😔👌. "
   ]
  },
  {
   "cell_type": "markdown",
   "metadata": {
    "colab_type": "text",
    "id": "9K9fWy7NqMzu"
   },
   "source": [
    "Para llevar a cabo lo anterior se te entrega la clase ```Contenido``` que ya viene implementada, y la clase ```Ayudante``` la cual debes completar. También se te entrega la función ```cargar_contenidos``` que carga los csv de los contenidos a repasar en la ayudantía con los respectivos tiempos que toma la ayudante en escribirlos en *DCCuaderno Virtual*."
   ]
  },
  {
   "cell_type": "code",
   "execution_count": 0,
   "metadata": {
    "colab": {},
    "colab_type": "code",
    "id": "C3KGkOKtI_MX"
   },
   "outputs": [],
   "source": [
    "import threading\n",
    "import time\n",
    "\n",
    "class Contenido:\n",
    "\n",
    "    def __init__(self, tema, tiempo):\n",
    "        self.tema = tema\n",
    "        self.tiempo = tiempo\n"
   ]
  },
  {
   "cell_type": "code",
   "execution_count": 0,
   "metadata": {
    "colab": {},
    "colab_type": "code",
    "id": "Zvr9HUknsEKD"
   },
   "outputs": [],
   "source": [
    "class Ayudante(threading.Thread):\n",
    "    \n",
    "    #Completar\n",
    "\n",
    "    def __init__(self, nombre, contenidos, funcion):\n",
    "\n",
    "        super().__init__()\n",
    "        self.nombre = nombre\n",
    "        self.contenidos = contenidos #lista de contenidos\n",
    "        self.funcion = funcion #contenido o ejercicio\n",
    "\n",
    "    def run(self):\n",
    "        while self.contenidos:\n",
    "            contenido = self.contenidos.pop(0)\n",
    "            #Completar\n",
    "        \n",
    "        print(f\"{self.nombre}: Ayudantía lista!\")\n"
   ]
  },
  {
   "cell_type": "markdown",
   "metadata": {
    "colab_type": "text",
    "id": "s5bX_PNhoQXJ"
   },
   "source": [
    "Dado que las ayudantes son muy unidas se van a esperar mutuamente antes de dar la ayudantía por finalizada, entonces, si una ya terminó su parte debe esperar a que la otra termine.👩‍❤️‍👩"
   ]
  },
  {
   "cell_type": "code",
   "execution_count": 0,
   "metadata": {
    "colab": {},
    "colab_type": "code",
    "id": "539-XujmsLwP"
   },
   "outputs": [],
   "source": [
    "class Ayudante(threading.Thread):\n",
    "\n",
    "    lock_escribir = threading.Lock() \n",
    "    #Completar\n",
    "\n",
    "    def __init__(self, nombre, contenidos, funcion):\n",
    "\n",
    "        super().__init__()\n",
    "        self.nombre = nombre\n",
    "        self.contenidos = contenidos #lista de contenidos\n",
    "        self.funcion = funcion #contenido o ejercicio\n",
    "\n",
    "    def run(self):\n",
    "        while self.contenidos:\n",
    "            contenido = self.contenidos.pop(0)\n",
    "            time.sleep(1)\n",
    "            with self.lock_escribir:\n",
    "                print(f'{self.nombre}: Estoy escribiendo el {self.funcion} del tema {contenido.tema}')\n",
    "                time.sleep(contenido.tiempo)\n",
    "        #Completar"
   ]
  },
  {
   "cell_type": "code",
   "execution_count": 0,
   "metadata": {
    "colab": {},
    "colab_type": "code",
    "id": "o09qMa0lKGNe"
   },
   "outputs": [],
   "source": [
    "def cargar_contenidos(path):\n",
    "    contenidos = []\n",
    "\n",
    "    with open(path, 'r', encoding='utf-8') as file:\n",
    "        lineas = file.readlines()\n",
    "        for linea in lineas:\n",
    "            tema, tiempo = linea.strip().split(\",\")\n",
    "            contenido = Contenido(tema, int(tiempo))\n",
    "            contenidos.append(contenido)\n",
    "\n",
    "    return contenidos"
   ]
  },
  {
   "cell_type": "code",
   "execution_count": 0,
   "metadata": {
    "colab": {},
    "colab_type": "code",
    "id": "S6HUeBPdKHbL"
   },
   "outputs": [],
   "source": [
    "contenidos_1 = cargar_contenidos('contenidos.csv')\n",
    "contenidos_2 = cargar_contenidos('contenidos_ewe.csv')\n",
    "\n",
    "javi_fuentes = Ayudante(\"Javi Fuentes\", contenidos_1, \"contenido\")\n",
    "javi_ewe = Ayudante(\"Javi ewe\", contenidos_2, \"ejercicio\")\n",
    "\n",
    "javi_ewe.start()\n",
    "javi_fuentes.start()\n",
    "\n",
    "javi_fuentes.join()\n",
    "javi_ewe.join()\n",
    "\n",
    "print(\"La ayudantía está terminada :)\")"
   ]
  },
  {
   "cell_type": "markdown",
   "metadata": {
    "colab_type": "text",
    "id": "5WjXazo-KRiN"
   },
   "source": [
    "La ayudantía ya está lista! Solo falta que la **revisen los profesores** y el gran *Dr. Pinto* para obtener la aprobación final y poder enseñársela a los estudiantes ~~estresados~~ que quieren aprender. Los profesores tienen un tiempo límite para entregar su feedback, si dentro de ese tiempo no alcanzan a revisar la ayudantía o dar sus comentarios al respecto, simplemente no se tomarán en cuenta."
   ]
  },
  {
   "cell_type": "markdown",
   "metadata": {
    "colab_type": "text",
    "id": "9WuCngUrtbrR"
   },
   "source": [
    "Para esto se te entrega la clase ```Reloj``` que ya viene implementada, y la clase ```Profesor``` que debes completar para llevar a cabo tu misión 😎. "
   ]
  },
  {
   "cell_type": "code",
   "execution_count": 0,
   "metadata": {
    "colab": {},
    "colab_type": "code",
    "id": "wKm7YZtbKR7M"
   },
   "outputs": [],
   "source": [
    "class Reloj(threading.Thread):\n",
    "    def __init__(self, tiempo):\n",
    "        super().__init__()\n",
    "        self.tiempo = tiempo\n",
    "\n",
    "    def run(self):\n",
    "        while self.tiempo > 0:\n",
    "            print(f'Tiempo restante: {self.tiempo}')\n",
    "            time.sleep(1)\n",
    "            self.tiempo -= 1\n",
    "\n",
    "\n"
   ]
  },
  {
   "cell_type": "code",
   "execution_count": 0,
   "metadata": {
    "colab": {},
    "colab_type": "code",
    "id": "NNMVfhxQwykP"
   },
   "outputs": [],
   "source": [
    "class Profesor(threading.Thread):\n",
    "    \n",
    "    #Completar\n",
    "\n",
    "    def __init__(self, nombre, revision):\n",
    "        super().__init__()\n",
    "        self.nombre = nombre\n",
    "        self.revision = revision\n",
    "        #Completar\n",
    "        \n",
    "    def run(self):\n",
    "        #Completar\n",
    "        print('-------------------------------------------')\n",
    "        print(f'{self.nombre}: {self.revision[\"feedback\"]}')\n",
    "        print('-------------------------------------------')"
   ]
  },
  {
   "cell_type": "code",
   "execution_count": 0,
   "metadata": {
    "colab": {},
    "colab_type": "code",
    "id": "YZjIJxK2KTfb"
   },
   "outputs": [],
   "source": [
    "def cargar_revisiones(path):\n",
    "    revisiones = dict()\n",
    "\n",
    "    with open(path, 'r', encoding='utf-8') as file:\n",
    "        lineas = file.readlines()\n",
    "        for linea in lineas:\n",
    "            nombre, feedback, tiempo = linea.strip().split(\";\")\n",
    "            revisiones[nombre] = {\"feedback\": feedback, \"tiempo\": int(tiempo)}\n",
    "\n",
    "    return revisiones"
   ]
  },
  {
   "cell_type": "code",
   "execution_count": 0,
   "metadata": {
    "colab": {},
    "colab_type": "code",
    "id": "-UNNqO8CKWVK"
   },
   "outputs": [],
   "source": [
    "revision = cargar_revisiones('revisiones.csv')\n",
    "\n",
    "vicente = Profesor(\"Vicente\", revision[\"Vicente\"])\n",
    "fernando = Profesor(\"Fernando\", revision[\"Fernando\"])\n",
    "nini = Profesor(\"Nini\", revision[\"Nini\"])\n",
    "cristian = Profesor(\"Cristian\", revision[\"Cristian\"])\n",
    "\n",
    "reloj = Reloj(30)\n",
    "reloj.start()\n",
    "\n",
    "vicente.start()\n",
    "fernando.start()\n",
    "nini.start()\n",
    "cristian.start()\n",
    "\n",
    "reloj.join()"
   ]
  }
 ],
 "metadata": {
  "colab": {
   "collapsed_sections": [],
   "name": "AY06 - Threading.ipynb",
   "provenance": []
  },
  "kernelspec": {
   "display_name": "Python 3",
   "language": "python",
   "name": "python3"
  },
  "language_info": {
   "codemirror_mode": {
    "name": "ipython",
    "version": 3
   },
   "file_extension": ".py",
   "mimetype": "text/x-python",
   "name": "python",
   "nbconvert_exporter": "python",
   "pygments_lexer": "ipython3",
   "version": "3.6.9"
  }
 },
 "nbformat": 4,
 "nbformat_minor": 1
}
