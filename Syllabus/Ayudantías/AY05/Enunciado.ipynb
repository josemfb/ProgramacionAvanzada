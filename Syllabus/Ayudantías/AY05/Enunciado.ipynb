{
 "cells": [
  {
   "cell_type": "markdown",
   "metadata": {
    "colab_type": "text",
    "id": "Jj33FhugPske"
   },
   "source": [
    "# Ayudantía 05: Iterables\n",
    "\n",
    "## Autores: [@tomasgv](https://github.com/tomasgv) & [@manarea](https://github.com/manarea)"
   ]
  },
  {
   "cell_type": "markdown",
   "metadata": {
    "colab_type": "text",
    "id": "qzUi6DpBJUNY"
   },
   "source": [
    "# Iterables e Iteradores"
   ]
  },
  {
   "cell_type": "markdown",
   "metadata": {
    "colab_type": "text",
    "id": "rLWNGdbALpGu"
   },
   "source": [
    "\n",
    "### ¿Qué es iterar? \n",
    "\n",
    "Se dice que \"iteramos\" sobre alguna estructura de datos cuando recorremos los elementos que la contienen. Es fácil ver que podemos iterar sobre listas, tuplas, diccionarios, *sets*, entre otros. Lo que tal vez no sabías es que puedes crear tus propias estructuras iterables 😱!! Para esto es necesario entender la diferencia entre **iterable** e **iterador**."
   ]
  },
  {
   "cell_type": "markdown",
   "metadata": {
    "colab_type": "text",
    "id": "XJLDMPM7LpRy"
   },
   "source": [
    "### Iterable\n",
    "Es cualquier objeto sobre el cual **se puede iterar**. Por ejemplo, se puede aplicar un *for loop* con ellos.\n",
    "\n",
    "Los iterables **implementan** el método `__iter__`, es decir, se puede hacer `iter(iterable)` o `iterable.__iter__()`.\n",
    "\n"
   ]
  },
  {
   "cell_type": "code",
   "execution_count": 1,
   "metadata": {
    "colab": {},
    "colab_type": "code",
    "id": "ggTTqSUV2u7u"
   },
   "outputs": [
    {
     "name": "stdout",
     "output_type": "stream",
     "text": [
      "uno\n",
      "uwu\n",
      "hola\n",
      "iter del diccionario retorna: <dict_keyiterator object at 0x060C3F00>\n"
     ]
    }
   ],
   "source": [
    "diccionario = {\"uno\": 1, \"uwu\": 2, \"hola\": \"mundo\"}\n",
    "for i in diccionario:\n",
    "    print(i)\n",
    "    \n",
    "print(\"iter del diccionario retorna:\", iter(diccionario))"
   ]
  },
  {
   "cell_type": "markdown",
   "metadata": {
    "colab_type": "text",
    "id": "CVb_stxKLpbm"
   },
   "source": [
    "### Iterador\n",
    "Un iterador es un objeto que **itera sobre un iterable**, y es retornado por el método `__iter__()` de un iterable.\n",
    "\n",
    "Los iteradores también implementan el método `__next__()`, el cual retorna el siguiente elemento de la estructura **cada vez que se invoca**. \n",
    "\n",
    "Cuando no quedan más elementos por recorrer, se levanta la excepción `StopIteration`."
   ]
  },
  {
   "cell_type": "markdown",
   "metadata": {},
   "source": [
    "A continuación, define en una variable, un iterador (Usa el diccionario creado anteriormente!)\n",
    "\n",
    "Posteriormente, prueba qué tipo de iterador es y recórrelo! \n",
    "\n",
    "*Recuerda usar el método next*"
   ]
  },
  {
   "cell_type": "code",
   "execution_count": 3,
   "metadata": {
    "colab": {},
    "colab_type": "code",
    "id": "cPUY2Lk13BmB"
   },
   "outputs": [
    {
     "name": "stdout",
     "output_type": "stream",
     "text": [
      "Soy un <dict_keyiterator object at 0x00D9BFC0> y mi iter es <dict_keyiterator object at 0x00D9BFC0>\n",
      "uno\n",
      "uwu\n",
      "hola\n"
     ]
    }
   ],
   "source": [
    "#Tu código va aquí!"
   ]
  },
  {
   "cell_type": "markdown",
   "metadata": {
    "colab_type": "text",
    "id": "bYrLrfRGLpm6"
   },
   "source": [
    "**¿Por qué podemos recorrer varias veces un iterable, pero en el caso de un iterador no?**\n",
    "\n",
    "Para responder a esa pregunta, necesitamos conocer la estructura de un iterable.\n",
    "\n",
    "A continuación veremos el esqueleto básico de una estructura iterable, creando nuestra propia versión de `range()` (sí, es un iterable).\n",
    "\n",
    "Primero, definimos nuestro propia clase iterable de rango, con sus atributos y el método `__iter__()`:"
   ]
  },
  {
   "cell_type": "code",
   "execution_count": 0,
   "metadata": {
    "colab": {},
    "colab_type": "code",
    "id": "utrLaISp3drp"
   },
   "outputs": [],
   "source": [
    "#Tu código aquí\n",
    "\n",
    "\n",
    "\n",
    "\n"
   ]
  },
  {
   "cell_type": "markdown",
   "metadata": {
    "colab_type": "text",
    "id": "qmmPLPl8Lpvj"
   },
   "source": [
    "Luego definimos nuestro iterador, que debe definir los métodos `__iter__()` y `__next__()`"
   ]
  },
  {
   "cell_type": "code",
   "execution_count": 0,
   "metadata": {
    "colab": {},
    "colab_type": "code",
    "id": "QvTcNhl43igL"
   },
   "outputs": [],
   "source": [
    "class MiIterador:\n",
    "    \n",
    "    def __init__(self, iterable):\n",
    "        self.iterable = iterable\n",
    "    \n",
    "    def __iter__(self): \n",
    "        #Tu código va aquí! Recuerda borrar el \"pass\"\n",
    "        pass\n",
    "    \n",
    "    def __next__(self):\n",
    "        #Tu código va aquí! Recuerda borrar el \"pass\"\n",
    "        pass"
   ]
  },
  {
   "cell_type": "markdown",
   "metadata": {
    "colab_type": "text",
    "id": "T46lFb_83xwh"
   },
   "source": [
    "Una vez definidas estas clases, probamos instanciar nuestro rango personalizado:"
   ]
  },
  {
   "cell_type": "code",
   "execution_count": 0,
   "metadata": {
    "colab": {
     "base_uri": "https://localhost:8080/",
     "height": 102
    },
    "colab_type": "code",
    "id": "w_Y8ONyc3ilT",
    "outputId": "124a7c65-54bc-4ec9-c601-6463285ae098"
   },
   "outputs": [
    {
     "name": "stdout",
     "output_type": "stream",
     "text": [
      "0\n",
      "1\n",
      "2\n",
      "3\n",
      "4\n"
     ]
    }
   ],
   "source": [
    "range_bkn = MiIterableRango(0,5)\n",
    "for i in range_bkn:\n",
    "    print(i)"
   ]
  },
  {
   "cell_type": "markdown",
   "metadata": {
    "colab_type": "text",
    "id": "t5FdEFzR39tW"
   },
   "source": [
    "Notamos también que se cumplen las mismas propiedades de iteradores para el método `iter()` de nuestra clase:"
   ]
  },
  {
   "cell_type": "code",
   "execution_count": 0,
   "metadata": {
    "colab": {
     "base_uri": "https://localhost:8080/",
     "height": 51
    },
    "colab_type": "code",
    "id": "u4h6bL8C3pbb",
    "outputId": "49322d22-0ef5-4bd5-da45-2376d62a50fb"
   },
   "outputs": [
    {
     "name": "stdout",
     "output_type": "stream",
     "text": [
      "0\n",
      "1\n"
     ]
    }
   ],
   "source": [
    "iterador = iter(range_bkn)\n",
    "print(next(iterador))\n",
    "print(next(iterador))"
   ]
  },
  {
   "cell_type": "markdown",
   "metadata": {
    "colab_type": "text",
    "id": "ntBtDzv24LcQ"
   },
   "source": [
    "**Logramos definir nuestra propia clase de rango!! 🎉🎉**\n",
    "\n",
    "Como ejercicio, puedes intentar implementar el salto (*skip*) propio de `range()`.\n",
    "\n",
    "Finalmente, llegamos a una idea un poco compleja:\n",
    "\n",
    "Los *for loops* llaman al método `__iter__()` de la estructura iterable, y para obtener el siguiente valor en la iteración utilizan el método `__next__()` de la clase retornada por `__iter__()`."
   ]
  },
  {
   "cell_type": "markdown",
   "metadata": {
    "colab_type": "text",
    "id": "WNfLjrPU4UgA"
   },
   "source": [
    "## Generadores"
   ]
  },
  {
   "cell_type": "markdown",
   "metadata": {
    "colab_type": "text",
    "id": "BPvKvcMC4XI6"
   },
   "source": [
    "Son un caso especial de los **iteradores**: nos permiten iterar sobre secuencias de datos sin la necesidad de almacenarlos en alguna estructura especial. En pocas palabras, los generadores simplifican la necesidad de crear clases iterables, pero no son tan personalizables como estos últimos."
   ]
  },
  {
   "cell_type": "markdown",
   "metadata": {
    "colab_type": "text",
    "id": "ERM0mnqE4aLo"
   },
   "source": [
    "Para obtener un generador, se puede usar un formato similar a las listas por comprensión:"
   ]
  },
  {
   "cell_type": "code",
   "execution_count": 0,
   "metadata": {
    "colab": {
     "base_uri": "https://localhost:8080/",
     "height": 34
    },
    "colab_type": "code",
    "id": "KZdvE6ET4etm",
    "outputId": "1c43f7ff-719c-44ea-da3d-fcb949f43f5d"
   },
   "outputs": [
    {
     "name": "stdout",
     "output_type": "stream",
     "text": [
      "[0, 1, 2, 3, 4]\n"
     ]
    }
   ],
   "source": [
    "#Crea una lista por compresión aquí!"
   ]
  },
  {
   "cell_type": "markdown",
   "metadata": {
    "colab_type": "text",
    "id": "TJzFatoA4hU4"
   },
   "source": [
    "Si reemplazamos los `[]` con `()`, notaremos que hemos creado un generador:"
   ]
  },
  {
   "cell_type": "code",
   "execution_count": 0,
   "metadata": {
    "colab": {
     "base_uri": "https://localhost:8080/",
     "height": 34
    },
    "colab_type": "code",
    "id": "R1J9c98T4oNy",
    "outputId": "06b2c079-0c35-4232-f86f-691098cd3170"
   },
   "outputs": [
    {
     "data": {
      "text/plain": [
       "generator"
      ]
     },
     "execution_count": 6,
     "metadata": {
      "tags": []
     },
     "output_type": "execute_result"
    }
   ],
   "source": [
    "#Implementa tu generador aquí y prueba que es del tipo generador"
   ]
  },
  {
   "cell_type": "markdown",
   "metadata": {
    "colab_type": "text",
    "id": "7MhyYJsx4sTh"
   },
   "source": [
    "Del mismo modo que los iteradores, se pueden recorrer usando `for`, y tampoco se 'reinician' como ocurre con los iterables."
   ]
  },
  {
   "cell_type": "code",
   "execution_count": 0,
   "metadata": {
    "colab": {
     "base_uri": "https://localhost:8080/",
     "height": 283
    },
    "colab_type": "code",
    "id": "M4z_Ijmb4zX2",
    "outputId": "273678ac-83f7-4a98-fe9f-4d6840220f29"
   },
   "outputs": [
    {
     "name": "stdout",
     "output_type": "stream",
     "text": [
      "0\n",
      "1\n",
      "2\n",
      "3\n",
      "4\n"
     ]
    },
    {
     "ename": "StopIteration",
     "evalue": "ignored",
     "output_type": "error",
     "traceback": [
      "\u001b[0;31m---------------------------------------------------------------------------\u001b[0m",
      "\u001b[0;31mStopIteration\u001b[0m                             Traceback (most recent call last)",
      "\u001b[0;32m<ipython-input-7-412a0f2177b4>\u001b[0m in \u001b[0;36m<module>\u001b[0;34m()\u001b[0m\n\u001b[1;32m      1\u001b[0m \u001b[0;32mfor\u001b[0m \u001b[0mi\u001b[0m \u001b[0;32min\u001b[0m \u001b[0mgenerador\u001b[0m\u001b[0;34m:\u001b[0m\u001b[0;34m\u001b[0m\u001b[0;34m\u001b[0m\u001b[0m\n\u001b[1;32m      2\u001b[0m     \u001b[0mprint\u001b[0m\u001b[0;34m(\u001b[0m\u001b[0mi\u001b[0m\u001b[0;34m)\u001b[0m\u001b[0;34m\u001b[0m\u001b[0;34m\u001b[0m\u001b[0m\n\u001b[0;32m----> 3\u001b[0;31m \u001b[0mprint\u001b[0m\u001b[0;34m(\u001b[0m\u001b[0mnext\u001b[0m\u001b[0;34m(\u001b[0m\u001b[0mgenerador\u001b[0m\u001b[0;34m)\u001b[0m\u001b[0;34m)\u001b[0m\u001b[0;34m\u001b[0m\u001b[0;34m\u001b[0m\u001b[0m\n\u001b[0m",
      "\u001b[0;31mStopIteration\u001b[0m: "
     ]
    }
   ],
   "source": [
    "for i in generador:\n",
    "    print(i)\n",
    "print(next(generador))"
   ]
  },
  {
   "cell_type": "markdown",
   "metadata": {
    "colab_type": "text",
    "id": "m4pGdsGQ440T"
   },
   "source": [
    "## Funciones Generadoras\n",
    "Es posible crear funciones que funcionen como generadores en Python, a través de la sentencia `yield`. \n",
    "\n",
    "`yield` es similar a `return` en retornar un valor indicado, pero en el momento en que la función se vuelve a llamar, se continúa justo donde se había quedado."
   ]
  },
  {
   "cell_type": "markdown",
   "metadata": {},
   "source": [
    "Define la función generador pares_entre(inicio, fin).\n",
    "- La funcion no tiene límite\n",
    "- Si el número es par, lo retorna usando yield\n",
    "\n",
    "Luego, crea en una variable tu generador y prueba que corresponde al tipo requerido!"
   ]
  },
  {
   "cell_type": "code",
   "execution_count": 4,
   "metadata": {
    "colab": {},
    "colab_type": "code",
    "id": "CVnbG9dT46xA"
   },
   "outputs": [],
   "source": [
    "def pares_entre(inicio, fin):\n",
    "    pass\n",
    "\n",
    "\n"
   ]
  },
  {
   "cell_type": "code",
   "execution_count": 0,
   "metadata": {
    "colab": {},
    "colab_type": "code",
    "id": "vnqmd7Ja5DT8"
   },
   "outputs": [],
   "source": [
    "#Si todo va bien, deberiamos poder iterar sobre nuestro nuevo generador!\n",
    "for i in generador:\n",
    "    print(i)"
   ]
  },
  {
   "cell_type": "markdown",
   "metadata": {
    "colab_type": "text",
    "id": "vps6SGs6fgzY"
   },
   "source": [
    "## Enviar valores a funciones generadoras\n",
    "Es posible interactuar con funciones generadoras y enviarle datos usando el método `send()`.\n",
    "\n",
    "Este método envía datos a la expresión `yield` de la función, por lo que al hacer algo como `v = yield valor` el valor enviado con `send()` se guardará en la variable `v`\n"
   ]
  },
  {
   "cell_type": "code",
   "execution_count": 0,
   "metadata": {
    "colab": {},
    "colab_type": "code",
    "id": "xE6tNZstgORE"
   },
   "outputs": [],
   "source": [
    "def funcion_generadora_send():\n",
    "    contador = 0\n",
    "    while True:\n",
    "        valor_recibido = yield contador\n",
    "        print(\"Hemos recibido {}\".format(valor_recibido))\n",
    "        if valor_recibido is None:  # Consideraremos 0 si nos llega un None\n",
    "            valor_recibido = 0\n",
    "        print(\"Sumaremos {} a nuestro contador\".format(valor_recibido))\n",
    "        contador += valor_recibido  # Sumamos el valor recibido al contador que llevamos"
   ]
  },
  {
   "cell_type": "code",
   "execution_count": 0,
   "metadata": {
    "colab": {},
    "colab_type": "code",
    "id": "GxGZPOQSgQPm"
   },
   "outputs": [],
   "source": [
    "generador_send = funcion_generadora_send()"
   ]
  },
  {
   "cell_type": "markdown",
   "metadata": {
    "colab_type": "text",
    "id": "RFz8qGZCi-S6"
   },
   "source": [
    "Para poder enviarle algo a la función, es necesario antes llamar al menos una vez a su método `__next__()`, de modo que se alcance la línea que contiene a la expresión `yield`. "
   ]
  },
  {
   "cell_type": "code",
   "execution_count": 0,
   "metadata": {
    "colab": {
     "base_uri": "https://localhost:8080/",
     "height": 68
    },
    "colab_type": "code",
    "id": "LajagJ-citcz",
    "outputId": "984f44e1-4a6a-49e7-c27f-54459c5f4c75"
   },
   "outputs": [
    {
     "name": "stdout",
     "output_type": "stream",
     "text": [
      "Hemos recibido 5\n",
      "Sumaremos 5 a nuestro contador\n"
     ]
    },
    {
     "data": {
      "text/plain": [
       "5"
      ]
     },
     "execution_count": 9,
     "metadata": {
      "tags": []
     },
     "output_type": "execute_result"
    }
   ],
   "source": [
    "next(generador_send)\n",
    "generador_send.send(5)"
   ]
  },
  {
   "cell_type": "markdown",
   "metadata": {
    "colab_type": "text",
    "id": "kwH4uO_tkSHu"
   },
   "source": [
    "No nos adentraremos mucho en las aplicaciones de este método, pero de todos modos es importante que lo conozcan."
   ]
  },
  {
   "cell_type": "markdown",
   "metadata": {
    "colab_type": "text",
    "id": "Ofk0lPWQFZDK"
   },
   "source": [
    "# Funciones de Primera Clase\n",
    "\n",
    "\n",
    "\n",
    "- Hay una herramienta que quizás no muchos usen, pero ciertamente resulta útil a la hora de programar. Estamos hablando de las funciones de primera clase. Lo que las caracteriza es el hecho de que en solo una línea, se puede definir lo que en otras circunstacias tomaría 10 líneas o más\n",
    "\n",
    "\n",
    "- Hacer uso de este método de programación no solo es eficiente respecto a la longitud de nuestro código, si no que también es *ordenado*.\n",
    "\n",
    "    Entonces, imaginemos que en *una tarea*, nuestro código requiere un nivel de cambio considerable. Podemos usar las funciones de primera clase para ahorrarnos un descuento gigante! *#ProTip*\n",
    "\n",
    "\n",
    "\n",
    "\n",
    "Veamos, *qué tipos repasaremos y como funcionan:*"
   ]
  },
  {
   "cell_type": "markdown",
   "metadata": {
    "colab_type": "text",
    "id": "80E6myuIL-Y9"
   },
   "source": [
    "## Funciones Lambda\n",
    "Las diferencias que tenemos entre una función normal y una lambda, son las siguientes:\n",
    "\n",
    "- Retornan algo\n",
    "- Se defininen como funciones anónimas, de manera que no reciben un nombre y tampoco se hace uso de algún nombre para definirlas o llamarlas, si no que se definen a medida que las vayamos a necesitar."
   ]
  },
  {
   "cell_type": "code",
   "execution_count": 0,
   "metadata": {
    "colab": {
     "base_uri": "https://localhost:8080/",
     "height": 54
    },
    "colab_type": "code",
    "id": "gmwyOk8EXIP7",
    "outputId": "71b16292-2b0d-4c84-96a9-fb1f0287b871"
   },
   "outputs": [
    {
     "data": {
      "text/plain": [
       "'\\nComo podemos ver, solo tuvimos que usar 1 línea de código, y además\\nqueda ordenado y explícito.\\n\\nEs importante explicar que por el momento, solo podemos crear funciones que \\ntengan funciones limitadas, pero en breve veremos que nuestro alcance serán\\nmucho más amplio a la hora de definir con primera clase.\\n'"
      ]
     },
     "execution_count": 1,
     "metadata": {
      "tags": []
     },
     "output_type": "execute_result"
    }
   ],
   "source": [
    "'''\n",
    "Define una función que define un número para ser elevado a 2.\n",
    "Luego implementa esta misma función, en una sola línea y comprueba el resultado!\n",
    "'''\n",
    "\n",
    "def operador(numero):\n",
    "    #Tu código va aquí!\n",
    "    pass\n",
    "\n",
    "\n",
    "#Tu código va aquí!\n",
    "\n"
   ]
  },
  {
   "cell_type": "markdown",
   "metadata": {
    "colab_type": "text",
    "id": "Yzln3h2ML_Jl"
   },
   "source": [
    "### Función map\n",
    "- El método map nos permite usar una función lambda que hayamos creado y usarla en uno o más iterables (listas, sets, etc).\n",
    "- Es importante saber que este método nos entregará un generador, razón por la que también podremos iterar sobre él.\n",
    "- Veamos a continuación nuestros nuevos alcances..."
   ]
  },
  {
   "cell_type": "code",
   "execution_count": 5,
   "metadata": {
    "colab": {
     "base_uri": "https://localhost:8080/",
     "height": 88
    },
    "colab_type": "code",
    "id": "JHAkLtjeXT38",
    "outputId": "d388ddb8-ae65-43a9-8e59-1e29a5168160"
   },
   "outputs": [],
   "source": [
    "'''\n",
    "Creamos una función que podamos replicar mediante lambda y map.\n",
    "En este caso, lo que haremos será juntar dos listas con nombres y mostraremos como hacerlo en una sola línea!\n",
    "'''\n",
    "nombres = [\"Max\", \"Tomás\", \"María\", \"Jose\"]\n",
    "apellidos = [\"Narea\", \"González\", \"Carvajal\", \"Sepúlveda\"]\n",
    "\n",
    "def como_te_llamas(nombres, apellidos):\n",
    "    #Tu código va aquí!\n",
    "    pass\n",
    "\n",
    "\n",
    "#Ahora procedemos a definir nuestra función en tan solo una línea\n",
    "#Tu código va aquí!\n"
   ]
  },
  {
   "cell_type": "markdown",
   "metadata": {
    "colab_type": "text",
    "id": "zMVcSitEL_g_"
   },
   "source": [
    "### Función filter\n",
    "\n",
    "Ahora, procederemos a hacer uso de la función filter, mediante ella podemos definir un criterio del tipo *\"esto sí\", \"esto no\"*, para categorizar elementos o recuperar de algún iterable los elementos que nos sean útiles o de interés!"
   ]
  },
  {
   "cell_type": "code",
   "execution_count": 6,
   "metadata": {
    "colab": {
     "base_uri": "https://localhost:8080/",
     "height": 54
    },
    "colab_type": "code",
    "id": "OAd1mIfoXeuv",
    "outputId": "34be2afa-5c39-4bfb-c4c4-7de7a25f158e"
   },
   "outputs": [
    {
     "data": {
      "text/plain": [
       "'\\nNuestro código anterior itera las palabras de un texto cualquiera y \\nnos entrega solo aquellas que tengan un largo \"interesante\". \\nSacamos palabras como \"a\", \"el\", \"en\", etc\\n'"
      ]
     },
     "execution_count": 6,
     "metadata": {},
     "output_type": "execute_result"
    }
   ],
   "source": [
    "'''\n",
    "Para proceder a usar la filter, necesitaremos un\n",
    "iterador y una función que retorne SOLO true o false\n",
    "\n",
    "Definimos una función que busque palabras de interes (mayores a 3) en un texto\n",
    "'''\n",
    "texto = \"Mucho se ha dicho respecto al alcance de la física cuántica en los tiempos contemporáneos. Desde los revolucionarios aportes de Albert Einstein a mediados del siglo, hasta las recientes experiencias con fotones y la aceleración de partículas, nuestro entendimiento del universo ha variado tanto, en sentidos tan impredecibles, que a nadie sorprenderá lo intangible de la discusión teórica involucrada en este ensayo.\"\n",
    "texto = texto.replace(\",\", \"\").replace(\".\", \"\").split(\" \")\n",
    "#print(texto)\n",
    "\n",
    "def palabras_de_interes(texto):\n",
    "    #Tu código va aquí!\n",
    "    pass\n",
    "    \n",
    "'''\n",
    "Nuestro código anterior itera las palabras de un texto cualquiera y \n",
    "nos entrega solo aquellas que tengan un largo \"interesante\". \n",
    "Sacamos palabras como \"a\", \"el\", \"en\", etc\n",
    "'''\n",
    "\n",
    "#Ahora, en una sola línea sería:\n",
    "#Tu código va aquí!\n"
   ]
  },
  {
   "cell_type": "markdown",
   "metadata": {
    "colab_type": "text",
    "id": "3brzt4wEL_9Q"
   },
   "source": [
    "### Función reduce\n",
    "\n",
    "- Este caso en particular, corresponde a aplicar un resultado obtenido mediante una función, al elemento siguiente usando la misma función. De manera que se va \"guardando\" un resultado parcial.\n",
    "- En términos prácticos, corresponde a aplicar una función sobre una función, sobre una función...."
   ]
  },
  {
   "cell_type": "code",
   "execution_count": 0,
   "metadata": {
    "colab": {},
    "colab_type": "code",
    "id": "Oka8cZZZXpkQ"
   },
   "outputs": [],
   "source": [
    "'''\n",
    "Si observamos en detalle, nuestra operacion va juntando de manera secuencial\n",
    "las listas, de forma que el resultado final, corresponde a una lista\n",
    "con todos los elementos que se van iterando\n",
    "\n",
    "Para este caso en particular, se va iterando de dos en dos\n",
    "'''\n",
    "#Tu código va aquí!"
   ]
  },
  {
   "cell_type": "markdown",
   "metadata": {
    "colab_type": "text",
    "id": "Gs8Dq5-PkufP"
   },
   "source": [
    "## Ejercicio Propuesto 2.1: Cambiador de texto\n",
    "Luego de haber aprendido a usar filter y reduce, se te ocurre darle un uso entretenido, por lo que decides hacer un cambiador de texto. Este recibirá una lista con palabras y lo procesará para dejar en mayúscula todas aquellas palabras que comienzan con la letra a (puedes usarlo para otras letras también).\n",
    "\n",
    "A continuación se te entrega la lista con palabras:"
   ]
  },
  {
   "cell_type": "code",
   "execution_count": 0,
   "metadata": {
    "colab": {},
    "colab_type": "code",
    "id": "AXH35nn6k5zE"
   },
   "outputs": [],
   "source": [
    "texto = [\"hola\", \"me\", \"llamo\", \"amalia\", \"y\", \"me\", \"gustan\", \"las\", \"abejas\", \"y\", \"los\", \"árboles\"]\n"
   ]
  },
  {
   "cell_type": "markdown",
   "metadata": {
    "colab_type": "text",
    "id": "J_4pzsdElAVA"
   },
   "source": [
    "A continuación tendrás que usar filter para identificar las palabras y luego dejar en mayúscula las que empiezan con a:"
   ]
  },
  {
   "cell_type": "code",
   "execution_count": 0,
   "metadata": {
    "colab": {},
    "colab_type": "code",
    "id": "pW3-38CxlCYv"
   },
   "outputs": [],
   "source": [
    "palabras_con_a_inicial = filter() # Completar\n",
    "otras_palabras = filter() # Completar\n",
    "# Completar"
   ]
  },
  {
   "cell_type": "markdown",
   "metadata": {
    "colab_type": "text",
    "id": "dIbjYkLplZen"
   },
   "source": [
    "Y finalmente reduce, para juntar nuevamente el texto."
   ]
  },
  {
   "cell_type": "code",
   "execution_count": 0,
   "metadata": {
    "colab": {},
    "colab_type": "code",
    "id": "mzURDdiGlYf-"
   },
   "outputs": [],
   "source": [
    "from functools import reduce\n",
    "texto = reduce(# Completar)"
   ]
  },
  {
   "cell_type": "markdown",
   "metadata": {
    "colab_type": "text",
    "id": "y-so6B5XgcRP"
   },
   "source": [
    "## **Actividad!!**\n",
    "\n",
    "¡Han atacado nuevamente al Banco DCC! Esta vez los malévolos *hackers*, en un intento de pasar desapercibidos, decidieron robarle dinero solo a las personas cuyo nombre comienza con F.\n",
    "\n",
    "Tu misión será obtener las pérdidas totales generadas por este ataque, y luego devolverle el dinero necesario a cada cliente. Te han entregado la clase `Cliente` con sus atributos listos para ayudarte a resolver este problema.\n",
    "\n",
    "El banco DCC sospecha que lo han atacado mediante los *loops for* y *while*, por lo que te han **prohibido usarlos en tu código**, a menos que se usen en conjunto con funciones generadoras.\n",
    "\n",
    "Puedes asumir que las personas cuyo nombre comienza con F no han gastado nada de dinero.\n"
   ]
  },
  {
   "cell_type": "code",
   "execution_count": 1,
   "metadata": {
    "colab": {},
    "colab_type": "code",
    "id": "glHFd8J4pBOK"
   },
   "outputs": [],
   "source": [
    "class Cliente:\n",
    "    def __init__(self, nombre, monto_inicial, monto_actual):\n",
    "        self.nombre = nombre\n",
    "        self.monto_inicial = monto_inicial\n",
    "        self.monto_actual = monto_actual\n",
    "    \n",
    "    def depositar(self, monto):\n",
    "        self.monto_actual += monto\n",
    "    \n",
    "\n",
    "datos = [['Tomás', 2000, 1800], ['Maximiliano', 9999, 9898], ['Fernando', 10000, 6500],\n",
    "         ['Francisca', 8750, 5000], ['Uwucito', 1312, 420], ['DIO', 9090, 1864],\n",
    "         ['Daniela', 2000, 1500], ['F', 99999, 0]]\n"
   ]
  },
  {
   "cell_type": "markdown",
   "metadata": {
    "colab_type": "text",
    "id": "tWJLpLdZsWAZ"
   },
   "source": [
    "En primer lugar, nos entregan datos como lista, y debemos convertirlos a objetos."
   ]
  },
  {
   "cell_type": "code",
   "execution_count": 0,
   "metadata": {
    "colab": {},
    "colab_type": "code",
    "id": "xOl8EeIxpWnH"
   },
   "outputs": [],
   "source": [
    "# ¿Qué función nos puede servir?\n",
    "#Tu código va aquí!"
   ]
  },
  {
   "cell_type": "markdown",
   "metadata": {
    "colab_type": "text",
    "id": "zCFdsAsqtChi"
   },
   "source": [
    "Luego, debemos obtener solo los clientes cuyos nombres comienzan con F."
   ]
  },
  {
   "cell_type": "code",
   "execution_count": 0,
   "metadata": {
    "colab": {},
    "colab_type": "code",
    "id": "ubCybI8htHoa"
   },
   "outputs": [],
   "source": [
    "# ¿Qué función nos puede servir?\n",
    "#Tu código va aquí!\n"
   ]
  },
  {
   "cell_type": "markdown",
   "metadata": {
    "colab_type": "text",
    "id": "JKDDayrqtjIm"
   },
   "source": [
    "Finalmente, nos piden calcular las diferencias entre montos iniciales y finales de estos clientes."
   ]
  },
  {
   "cell_type": "code",
   "execution_count": 0,
   "metadata": {
    "colab": {
     "base_uri": "https://localhost:8080/",
     "height": 34
    },
    "colab_type": "code",
    "id": "gPSaALBAtrOL",
    "outputId": "31a830a5-3a6d-4551-d6c5-f514b993f5c4"
   },
   "outputs": [
    {
     "name": "stdout",
     "output_type": "stream",
     "text": [
      "11500\n"
     ]
    }
   ],
   "source": [
    "# ¿Qué función nos puede servir?\n",
    "#Tu código va aquí!\n"
   ]
  },
  {
   "cell_type": "code",
   "execution_count": 0,
   "metadata": {
    "colab": {},
    "colab_type": "code",
    "id": "Js-h3gmatvBh"
   },
   "outputs": [],
   "source": [
    "'''\n",
    "A continuación, definiremos una función generadora que nos \n",
    "permita ir obteniendo los montos que corresponden a nuestros \n",
    "clientes afectados.\n",
    "'''\n",
    "\n",
    "def calcula_cuentas(clientes_afectados):\n",
    "    #Función generadora\n",
    "    #Tu código va aquí!\n",
    "    pass"
   ]
  }
 ],
 "metadata": {
  "celltoolbar": "Slideshow",
  "colab": {
   "collapsed_sections": [],
   "name": "AY05 Iterables.ipynb",
   "provenance": [],
   "toc_visible": true
  },
  "kernelspec": {
   "display_name": "Python 3",
   "language": "python",
   "name": "python3"
  },
  "language_info": {
   "codemirror_mode": {
    "name": "ipython",
    "version": 3
   },
   "file_extension": ".py",
   "mimetype": "text/x-python",
   "name": "python",
   "nbconvert_exporter": "python",
   "pygments_lexer": "ipython3",
   "version": "3.6.9"
  }
 },
 "nbformat": 4,
 "nbformat_minor": 1
}
