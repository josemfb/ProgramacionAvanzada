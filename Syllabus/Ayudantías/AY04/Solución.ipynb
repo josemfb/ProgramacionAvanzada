{
 "cells": [
  {
   "cell_type": "markdown",
   "metadata": {
    "colab_type": "text",
    "id": "Jj33FhugPske"
   },
   "source": [
    "# Ayudantía 04: Excepciones\n",
    "\n",
    "## Autores: [@tomasgv](https://github.com/tomasgv) & [@javi-saavedra](https://github.com/javi-saavedra)\n",
    "\n",
    "### Evalúa la ayuntía en [este link](https://forms.gle/Udw8PNXGuNUB4CPS9)"
   ]
  },
  {
   "cell_type": "markdown",
   "metadata": {
    "colab_type": "text",
    "id": "fS1tnP7SPskg"
   },
   "source": [
    "## Excepciones\n",
    "\n",
    "Las **excepciones** son condiciones anómalas o inesperadas que ocurren durante un proceso de cómputo. \n",
    "¿A qué se refiere esto?\n",
    "\n",
    "Seguramente mientras programabas te encontraste con algo como esto..."
   ]
  },
  {
   "cell_type": "markdown",
   "metadata": {
    "colab_type": "text",
    "id": "pQxa7xFjPskj"
   },
   "source": [
    "\n",
    "\n",
    "<img width=1000 src = \"img/attr.png\">\n"
   ]
  },
  {
   "cell_type": "markdown",
   "metadata": {
    "colab_type": "text",
    "id": "H8n7rIYOjFmN"
   },
   "source": [
    "Es **MUY** útil conocer los tipos de excepciones que hay y cómo se pueden manejar."
   ]
  },
  {
   "cell_type": "markdown",
   "metadata": {
    "colab_type": "text",
    "id": "1Q2RhZ5_Pskj"
   },
   "source": [
    "## ¿Cuándo se generan?\n",
    "Los sistemas computacionales suelen generar eventos llamados excepciones cuando ocurre una condición que **altera el flujo normal o esperado de un programa**, o alguna acción **no pudo ser ejecutada tal como se esperaba**.\n"
   ]
  },
  {
   "cell_type": "markdown",
   "metadata": {
    "colab_type": "text",
    "id": "Wq_a5tGUPskk"
   },
   "source": [
    "Existen muchos tipos, entre los cuales los más comunes son:\n"
   ]
  },
  {
   "cell_type": "markdown",
   "metadata": {
    "colab_type": "text",
    "id": "rJ8s3fOwSnPV"
   },
   "source": [
    "### **`SyntaxError`**\n",
    "Ocurre cuando una sentencia del código esta **mal escrita**."
   ]
  },
  {
   "cell_type": "code",
   "execution_count": null,
   "metadata": {
    "colab": {
     "base_uri": "https://localhost:8080/",
     "height": 130
    },
    "colab_type": "code",
    "id": "LvowQYxOZrZd",
    "outputId": "bacf4799-bb29-4a71-d331-7a92c9a7579f"
   },
   "outputs": [],
   "source": [
    "num_1 = 1\n",
    "num_2 = 2\n",
    "if num_1<num_2\n",
    "    print(num_1, \"es menor que\", num_2)"
   ]
  },
  {
   "cell_type": "code",
   "execution_count": null,
   "metadata": {},
   "outputs": [],
   "source": [
    "numero_1 = int(input())\n",
    "numero_2 = int(input())\n",
    "\n",
    "if (numero_1 < 2 and (numero_1 > -10 or numero_1 < 20) or (numero_2 > 3):\n",
    "    print('El número ingresado está correcto!')"
   ]
  },
  {
   "cell_type": "markdown",
   "metadata": {
    "colab_type": "text",
    "id": "JZDS-GR3aEeF"
   },
   "source": [
    "### **`NameError`**\n",
    "Ocurre cuando se intenta utilizar una variable, funcion o clase que **no existe**."
   ]
  },
  {
   "cell_type": "code",
   "execution_count": null,
   "metadata": {
    "colab": {
     "base_uri": "https://localhost:8080/",
     "height": 198
    },
    "colab_type": "code",
    "id": "M-dfCC7NaUx_",
    "outputId": "927957bb-dc3d-4e6d-edec-3fbffb862bd5"
   },
   "outputs": [],
   "source": [
    "mi_variable = \"Soy una variable :D\"\n",
    "print(mi_varable)"
   ]
  },
  {
   "cell_type": "markdown",
   "metadata": {
    "colab_type": "text",
    "id": "avq3PEyQPgIq"
   },
   "source": [
    "### `ZeroDivisionError`\n",
    "Esta excepción se genera cuando se intenta realizar una división, en donde el **denomidador es cero**."
   ]
  },
  {
   "cell_type": "code",
   "execution_count": null,
   "metadata": {
    "colab": {
     "base_uri": "https://localhost:8080/",
     "height": 300
    },
    "colab_type": "code",
    "id": "qsTCAEWpPv9B",
    "outputId": "8df7ced9-c448-4c55-eb72-4abd54a3bb74"
   },
   "outputs": [],
   "source": [
    "def dividir(x, y):\n",
    "    return x/y\n",
    "\n",
    "dividir(4, 0)"
   ]
  },
  {
   "cell_type": "code",
   "execution_count": null,
   "metadata": {},
   "outputs": [],
   "source": [
    "def promedios(lista):\n",
    "    return sum(lista)/len(lista)\n",
    "\n",
    "print(promedios([1,2,3]))\n",
    "print(promedios([]))\n",
    "        "
   ]
  },
  {
   "cell_type": "markdown",
   "metadata": {
    "colab_type": "text",
    "id": "AnYKtPeWQhDE"
   },
   "source": [
    "### `IndexError`\n",
    "Se lanza cuando existe una indexación **fuera del rango válido**.\n"
   ]
  },
  {
   "cell_type": "code",
   "execution_count": null,
   "metadata": {
    "colab": {
     "base_uri": "https://localhost:8080/",
     "height": 181
    },
    "colab_type": "code",
    "id": "Pt39oiwVQ613",
    "outputId": "91e3bbaa-4483-4dd3-bf2e-b510eeef096f"
   },
   "outputs": [],
   "source": [
    "mi_lista = [5, 4, 1, \"xd\"]\n",
    "print(mi_lista[4])"
   ]
  },
  {
   "cell_type": "code",
   "execution_count": null,
   "metadata": {},
   "outputs": [],
   "source": [
    "def eliminar_pares(lista):\n",
    "    for num in range(len(lista)):\n",
    "        if num%2 == 0:\n",
    "            lista.pop(num)\n",
    "\n",
    "eliminar_pares([1, 2, 10, 5, 11])"
   ]
  },
  {
   "cell_type": "markdown",
   "metadata": {
    "colab_type": "text",
    "id": "-gAviN_paya3"
   },
   "source": [
    "### **`TypeError`**\n",
    "Ocurre cuando se intenta ejecutar una operación o función con un argumento que **no pertenece al tipo** correcto para la ejecución."
   ]
  },
  {
   "cell_type": "code",
   "execution_count": null,
   "metadata": {
    "colab": {
     "base_uri": "https://localhost:8080/",
     "height": 300
    },
    "colab_type": "code",
    "id": "tMvAptBec1EE",
    "outputId": "43c6bebf-9091-4c6b-e834-ff533e3aa1b9"
   },
   "outputs": [],
   "source": [
    "def suma(x, y):\n",
    "    return x + y\n",
    "\n",
    "suma(1, \"ewe\")"
   ]
  },
  {
   "cell_type": "code",
   "execution_count": null,
   "metadata": {},
   "outputs": [],
   "source": [
    "class Carrera:\n",
    "    def __init__(self, tiempo, distancia):\n",
    "        self.tiempo = tiempo\n",
    "        self.distancia = distancia\n",
    "\n",
    "    def velocidad(self):\n",
    "        return self.distancia/self.tiempo\n",
    "\n",
    "tiempo = input('Ingresa el tiempo: ')\n",
    "distancia = float(input('Ingrese la distancia'))\n",
    "\n",
    "mi_carrera = Carrera(tiempo, distancia)\n",
    "print(mi_carrera.velocidad())"
   ]
  },
  {
   "cell_type": "markdown",
   "metadata": {
    "colab_type": "text",
    "id": "0UYGDj1jRN3K"
   },
   "source": [
    "### `AttributeError`\n",
    "Ocurre cuando se intenta acceder a un **método o atributo inválido** de una clase."
   ]
  },
  {
   "cell_type": "code",
   "execution_count": null,
   "metadata": {
    "colab": {
     "base_uri": "https://localhost:8080/",
     "height": 198
    },
    "colab_type": "code",
    "id": "SkVkV-SYSGj7",
    "outputId": "bb4635d3-9979-4307-8cf5-958219abfe24"
   },
   "outputs": [],
   "source": [
    "class Arbol:\n",
    "    def __init__(self):\n",
    "        self.altura = 3\n",
    "    def crecer(self):\n",
    "        self.altura += 1\n",
    "arbolito = Arbol()\n",
    "print(arbolito.hablar())"
   ]
  },
  {
   "cell_type": "markdown",
   "metadata": {
    "colab_type": "text",
    "id": "KzYjwQFudR27"
   },
   "source": [
    "### **`KeyError`**\n",
    "Ocurre cuando se hace uso **incorrecto o inválido de llaves** en diccionarios"
   ]
  },
  {
   "cell_type": "code",
   "execution_count": null,
   "metadata": {
    "colab": {
     "base_uri": "https://localhost:8080/",
     "height": 181
    },
    "colab_type": "code",
    "id": "wqOrYsond3lT",
    "outputId": "63719d07-d25d-4c81-fe1b-db81bc49c708"
   },
   "outputs": [],
   "source": [
    "auto = {\"patente\": \"BBBB60\", \"marca\": \"Suzuki\"}\n",
    "print(auto[\"precio\"])"
   ]
  },
  {
   "cell_type": "markdown",
   "metadata": {
    "colab_type": "text",
    "id": "6pzEpNYMUITy"
   },
   "source": [
    "### `ValueError`\n",
    "Ocurre cuando se intenta ejecutar una operación o función con un argumento cuyo **valor no era apropiado** para la ejecución esperada."
   ]
  },
  {
   "cell_type": "code",
   "execution_count": null,
   "metadata": {
    "colab": {
     "base_uri": "https://localhost:8080/",
     "height": 181
    },
    "colab_type": "code",
    "id": "QmhP8pB4UtK-",
    "outputId": "c4b14ecb-d5e8-41f7-be70-476d476e4335"
   },
   "outputs": [],
   "source": [
    "mi_numero = int(input(\"Ingresa un número:  \"))"
   ]
  },
  {
   "cell_type": "markdown",
   "metadata": {
    "colab_type": "text",
    "id": "iBVJT6NhfORn"
   },
   "source": [
    "## Levantar Excepciones\n",
    "Podemos generar una excepción en el momento que queramos creando una nueva instancia de la excepción, y utilizando la sentencia **raise**.\n",
    "\n",
    "- Usualmente utilizamos *condiciones* que nos permiten saber donde levantar la excepción.\n",
    "- Se pueden usar dentro de funciones, clases, manejo de archivos.\n"
   ]
  },
  {
   "cell_type": "code",
   "execution_count": null,
   "metadata": {
    "colab": {
     "base_uri": "https://localhost:8080/",
     "height": 317
    },
    "colab_type": "code",
    "id": "8oHcqRpQfNWH",
    "outputId": "600943d7-a884-4944-84ee-965374e46914"
   },
   "outputs": [],
   "source": [
    "def sumar(x, y):\n",
    "    if not isinstance(x, int) or not isinstance(y, int): #Si x o y no son enteros\n",
    "        raise TypeError(\"Los dos argumentos deben ser enteros, cuidado!\") #Levantamos la excepción\n",
    "\n",
    "    return x + y \n",
    "\n",
    "sumar(1, \"ewe\")"
   ]
  },
  {
   "cell_type": "markdown",
   "metadata": {
    "colab_type": "text",
    "id": "aExMTpwWoDRj"
   },
   "source": [
    "## Manejar Excepciones - Try/Except\n",
    "Cada vez que se levanta una excepción, es posible **atraparla** mediante el uso de las sentencias try y except.\n",
    "\n",
    "Dentro del **try** se define un bloque de código, si una excepción se levanta dentro de él esta es atrapada en el **except**.\n",
    "\n",
    "En el momento que se captura una excepción dentro de try el flujo del programa **salta** inmediatamente al bloque de una de las sentencias except."
   ]
  },
  {
   "cell_type": "code",
   "execution_count": null,
   "metadata": {
    "colab": {
     "base_uri": "https://localhost:8080/",
     "height": 51
    },
    "colab_type": "code",
    "id": "PuW9LfdHoCmo",
    "outputId": "b24e0b64-d0f0-430e-fa13-9d609ba92e51"
   },
   "outputs": [],
   "source": [
    "def sumar(x, y):\n",
    "    if not isinstance(x, int) or not isinstance(y, int): #Si x o y no son enteros\n",
    "    raise TypeError(\"Los dos argumentos deben ser enteros, cuidado!\") #Levantamos la excepción\n",
    "\n",
    "    return x + y \n",
    "\n",
    "try:\n",
    "    sumar(1, \"ewe\")\n",
    "except TypeError as err:\n",
    "    print(f\"Error: {err}\")\n",
    "    print(\"Debes fijarte más para la próxima\")\n",
    "\n"
   ]
  },
  {
   "cell_type": "markdown",
   "metadata": {
    "colab_type": "text",
    "id": "w8MYYm3Qs7ck"
   },
   "source": [
    "Se pueden colocar múltiples sentencias **except**, también se puede complementar con las sentencias **else** y **finally**\n",
    "- ```else```: se ejecuta siempre y cuando no se haya lanzado **ninguna** excepción.\n",
    "- ```finally```: se ejecuta **siempre**, independiente de si se lanzó o no una excepción.\n",
    "\n",
    " "
   ]
  },
  {
   "cell_type": "code",
   "execution_count": null,
   "metadata": {
    "colab": {
     "base_uri": "https://localhost:8080/",
     "height": 204
    },
    "colab_type": "code",
    "id": "iTGgvylnL9t_",
    "outputId": "f0f6d3cf-24c5-4286-cf80-6d359c64e520"
   },
   "outputs": [],
   "source": [
    "for i in range(3):\n",
    "    try:\n",
    "        print(sumar(2, int(input(\"Ingresa un número: \"))))\n",
    "    except ValueError as err:\n",
    "        print(f\"Error: {err}\")\n",
    "        print(\"Debes fijarte más para la próxima\")\n",
    "    else:\n",
    "        print(\"Todo salió bien :D\")\n",
    "    finally:\n",
    "        print(f\"Te lo pediré {2-i} veces más\")\n"
   ]
  },
  {
   "cell_type": "markdown",
   "metadata": {
    "colab_type": "text",
    "id": "3nS7p-qGt1aI"
   },
   "source": [
    "## Excepciones propias\n",
    "Podemos crear nuestros propios tipos de excepciones, creando clases que hereden de `Exception`.\n",
    "También podemos modificar el comportamiento heredado sobreescribiendo los métodos de la clase madre:"
   ]
  },
  {
   "cell_type": "code",
   "execution_count": null,
   "metadata": {
    "colab": {
     "base_uri": "https://localhost:8080/",
     "height": 85
    },
    "colab_type": "code",
    "id": "FXgOg4p2jwpE",
    "outputId": "79623660-82d0-48ce-ceae-caa17455bec6"
   },
   "outputs": [],
   "source": [
    "class MiError(Exception):\n",
    "    def __init__(self, arg1, arg2):\n",
    "        super().__init__(f\"Alguno de los argumentos {arg1} o {arg2} causó un error\",\n",
    "                         \"Asegúrate de haber usado números enteros\")\n",
    "        # El constructor de Exception recibe *args\n",
    "        # Los strings entregados quedan en args[0] y args[1] respectivamente\n",
    "\n",
    "def resta(x, y):\n",
    "    if not x.isdigit() or not y.isdigit():\n",
    "        raise MiError(x, y)\n",
    "    return int(x) - int(y)\n",
    "\n",
    "try:\n",
    "    resultado = resta(input(\"Ingresa un número: \"), input(\"Ingresa otro: \"))\n",
    "    print(f\"La resta entre estos números es {resultado}\")\n",
    "except MiError as err:\n",
    "    print(err.args[0])\n",
    "    print(err.args[1])"
   ]
  },
  {
   "cell_type": "markdown",
   "metadata": {
    "colab_type": "text",
    "id": "QtZliEdDoMYy"
   },
   "source": [
    "### Ejercicio Propuesto 2.3: Manejo de excepciones múltiples\n",
    "Recibes un programa que debe imprimir 7 países con sus capitales respectivas. Sin embargo, en las estructuras de dato que guardan la información están muy incompletas, por lo que deberán manejar excepciones múltiples para que el programa avise los casos donde falte el país, la capital o incluso ambos.\n",
    "\n",
    "Los datos tanto de los 7 países está organizado en listas y el de las respectivas capitales en diccionarios. Para conectar la capital con su país se usa un id común, en el caso de el país el id es el índice dondé está el país la lista y para el diccionario la llave es el id y su valor es el nombre de la capital.\n",
    "\n",
    "Si se encuentra la capital y el país imprimir : 'La capital de {pais} es {capital}'\n",
    "\n",
    "Si no se encuentra capital, imprimir: 'Error, no hay registro de la capital de {pais}'\n",
    "\n",
    "Si no se encuentra al pais, imprimir: 'Error, no hay registro del pais con capital {capital}'\n",
    "\n",
    "Si no se encuentra ni país ni capital, imprimir: 'No hay registro ni del país ni de su capital'"
   ]
  },
  {
   "cell_type": "code",
   "execution_count": null,
   "metadata": {
    "colab": {},
    "colab_type": "code",
    "id": "CB5BBaIBsdY8"
   },
   "outputs": [],
   "source": [
    "diccionario = {0 : 'Santiago', 2 : 'Lima', 3 : 'Montevideo', 4 : 'La Paz'}\n",
    "lista = ['Chile', 'Argentina', 'Peru', 'Uruguay']\n",
    "\n",
    "for i in range (0, 7):\n",
    "    try:\n",
    "        pass\n",
    "    except:\n",
    "        pass\n",
    "    except:\n",
    "        pass"
   ]
  },
  {
   "cell_type": "markdown",
   "metadata": {
    "colab_type": "text",
    "id": "e1bOEpdxPskn"
   },
   "source": [
    "## **¡Actividad! 🎉**\n",
    "### Parte 1: Manejo de excepciones\n",
    "Recientemente, el DCC se ha enterado de que la conocida plataforma de videoconferencias, _Doom_ ,está presentando problemas de seguridad durante las reuniones que se hacen, vulnerabilizando a todos sus usuarios. Es por esto que han acudido a ti con la misión de verificar los _id_ de las reuniones.\n",
    "\n",
    "Para lograr esto, el DCC te ha facilitado la función incompleta `chequear_clase`, la cual deberás modificar de modo que lanze una excepción si se ingresa un _id_ de clase inválido. \n",
    "\n",
    "\n",
    "\n"
   ]
  },
  {
   "cell_type": "code",
   "execution_count": null,
   "metadata": {
    "colab": {},
    "colab_type": "code",
    "id": "9q1QZxBozo-X"
   },
   "outputs": [],
   "source": [
    "def chequear_clase(id_, clases):\n",
    "    if id_ not in clases.keys():\n",
    "        raise KeyError(\"El id no pertenece a las llaves del diccionario :(\")\n",
    "    profesore = clases[id_][\"profesor\"]\n",
    "    sigla = clases[id_][\"sigla\"]\n",
    "    return f\"Estas liste para entrar a la clase {sigla} dictada por {profesore}\\n\"\n"
   ]
  },
  {
   "cell_type": "markdown",
   "metadata": {},
   "source": [
    "Una vez completada la función, tendrás que manejar la excepción correctamente para notificar al estudiante de su error:"
   ]
  },
  {
   "cell_type": "code",
   "execution_count": null,
   "metadata": {},
   "outputs": [],
   "source": [
    "clases_activas = {\"747 498 2104\": {\"profesor\": \"Vicente Dominguez\", \"sigla\": \"IIC2233\"}, \n",
    "                 \"957 238 0301\": {\"profesor\": \"Huerthanos\", \"sigla\": \"MAT1630\"},\n",
    "                 \"030 345 6111\": {\"profesor\": \"David Torres\", \"sigla\": \"MAT1203\"},\n",
    "                 \"552 134 2293\": {\"profesor\": \"Ricardo Olea\", \"sigla\": \"EYP1113\"}\n",
    "                  }\n",
    "\n",
    "\n",
    "ids = [\"957 238 0301\", \"111 666 5555\", \"420 131 2000\"]\n",
    "for i in ids:\n",
    "    try:\n",
    "        print(chequear_clase(i, clases_activas))\n",
    "      \n",
    "    except KeyError as err:\n",
    "        print(f\"Error: {err}\")\n",
    "        print(\"Cuidado! Estás intentando ingresar a una clase que no existe, revisa el id ingresado\\n\")\n"
   ]
  },
  {
   "cell_type": "markdown",
   "metadata": {
    "colab_type": "text",
    "id": "5GsgQhlEzqFa"
   },
   "source": [
    "### Parte 2: Excepción Personalizada\n",
    "Una vez que lograste asegurar las videollamadas de _Doom_, te llegó una noticia inaceptable: hay estudiantes que en reiteradas ocasiones aprovechan de esconderse en el anonimato e insultar a los profesores o estudiantes. \n",
    "Decidiste tomar la iniciativa y con ayuda del DCC implementar un filtro de mensajes ofensivos que saque a los agresores de las salas correspondientes.\n",
    "\n",
    "Para lograr esto, te han entregado las clases `Alumno` y `Chat`, con una base de datos de los estudiantes y mensajes enviados hasta el momento por los usuarios. Deberás completar el error personalizado `ErrorMensajeOfensivo` de modo que al manejarlo imprimas los datos del estudiante autor del mensaje. \n",
    "\n",
    "\n",
    "\n",
    "\n"
   ]
  },
  {
   "cell_type": "code",
   "execution_count": null,
   "metadata": {
    "colab": {},
    "colab_type": "code",
    "id": "rK1117pV2_Xu"
   },
   "outputs": [],
   "source": [
    "class Estudiante:\n",
    "    def __init__(self, nombre, usuario, numero_alumno):\n",
    "        self.nombre = nombre\n",
    "        self.usuario = usuario\n",
    "        self.numero_alumno = numero_alumno\n",
    "    \n",
    "class ErrorMensajeOfensivo(Exception):\n",
    "    def __init__(self, estudiante):\n",
    "        super().__init__(f'¡Error estudiante está insultando a un profesor u otro estudiante:\\\n",
    " {estudiante.nombre} - {estudiante.usuario} - {estudiante.numero_alumno}')\n",
    "        self.estudiante = estudiante\n"
   ]
  },
  {
   "cell_type": "markdown",
   "metadata": {
    "colab_type": "text",
    "id": "KirZjYan5MAB"
   },
   "source": [
    "Luego tendrás que levantar esta excepción dentro del método `verificar_mensaje` de la clase `Chat` si el mensaje está dentro de la lista `ofensas`."
   ]
  },
  {
   "cell_type": "code",
   "execution_count": null,
   "metadata": {
    "colab": {},
    "colab_type": "code",
    "id": "hE-3XtZN5N5a"
   },
   "outputs": [],
   "source": [
    "class Chat:\n",
    "    def __init__(self, estudiantes, profesor, sigla):\n",
    "        self.estudiantes = estudiantes\n",
    "        self.profesor = profesor\n",
    "        self.sigla = sigla\n",
    "    \n",
    "    def verificar_mensaje(self, estudiante, mensaje):\n",
    "        ofensas = [\"malo\", \">:(\", \"odio\", \"baka\"]\n",
    "        \n",
    "        for palabra in ofensas:\n",
    "            if palabra in mensaje.lower():\n",
    "                raise ErrorMensajeOfensivo(estudiante)\n",
    "\n",
    "        print(f\"{estudiante.usuario}: {mensaje}\")   \n"
   ]
  },
  {
   "cell_type": "markdown",
   "metadata": {
    "colab_type": "text",
    "id": "eBXu4kXe58OS"
   },
   "source": [
    "Finalmente, deberás atrapar la excepción en caso de que se levante al usar el método `verificar_mensaje`. Te han entregado funciones para cargar mensajes y estudiantes para que puedas probar tu código."
   ]
  },
  {
   "cell_type": "code",
   "execution_count": null,
   "metadata": {
    "colab": {},
    "colab_type": "code",
    "id": "hx3wVBP357Xl"
   },
   "outputs": [],
   "source": [
    "import os\n",
    "def cargar_estudiantes(ruta_estudiantes):\n",
    "    with open(ruta_estudiantes) as archivo:\n",
    "        estudiantes = {}\n",
    "        for linea in archivo:\n",
    "            linea = linea.strip().split(\",\")\n",
    "            estudiantes[linea[0]] = Estudiante(linea[0], linea[1], linea[2])\n",
    "        return estudiantes\n",
    "\n",
    "def cargar_mensajes(ruta_mensajes):\n",
    "    with open(ruta_mensajes) as archivo:\n",
    "        mensajes = {}\n",
    "        for linea in archivo:\n",
    "            linea = linea.strip().split(\",\")\n",
    "            mensajes[linea[0]] = \",\".join(linea[1:])\n",
    "        return mensajes\n",
    "\n",
    "\n",
    "estudiantes = cargar_estudiantes(os.path.join(\"ejercicio\",\"estudiantes.csv\"))\n",
    "mensajes = cargar_mensajes(os.path.join(\"ejercicio\",\"mensajes.csv\"))\n",
    "chat = Chat(estudiantes, \"Profesor X\", \"IIC2233\")\n",
    "\n",
    "for i in mensajes:\n",
    "    try:\n",
    "        chat.verificar_mensaje(estudiantes[i], mensajes[i])\n",
    "    except ErrorMensajeOfensivo as err:\n",
    "        print(\"---------------------------\")\n",
    "        print(f\"Error: {err}\")\n",
    "        print(f\"{err.estudiante.nombre} será sacado de la sala y funado por ofensivo e irrespetuoso\")\n",
    "        print(\"---------------------------\")\n"
   ]
  }
 ],
 "metadata": {
  "colab": {
   "collapsed_sections": [],
   "name": "AY04 Excepciones.ipynb",
   "provenance": [],
   "toc_visible": true
  },
  "kernelspec": {
   "display_name": "Python 3",
   "language": "python",
   "name": "python3"
  },
  "language_info": {
   "codemirror_mode": {
    "name": "ipython",
    "version": 3
   },
   "file_extension": ".py",
   "mimetype": "text/x-python",
   "name": "python",
   "nbconvert_exporter": "python",
   "pygments_lexer": "ipython3",
   "version": "3.6.9"
  }
 },
 "nbformat": 4,
 "nbformat_minor": 1
}
