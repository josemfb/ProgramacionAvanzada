{
 "cells": [
  {
   "cell_type": "markdown",
   "metadata": {
    "colab_type": "text",
    "id": "Jj33FhugPske"
   },
   "source": [
    "# Ayudantía 04: Excepciones\n",
    "\n",
    "## Autores: [@tomasgv](https://github.com/tomasgv) & [@javi-saavedra](https://github.com/javi-saavedra)"
   ]
  },
  {
   "cell_type": "markdown",
   "metadata": {
    "colab_type": "text",
    "id": "fS1tnP7SPskg"
   },
   "source": [
    "## Excepciones\n",
    "\n",
    "Las **excepciones** son condiciones anómalas o inesperadas que ocurren durante un proceso de cómputo. "
   ]
  },
  {
   "cell_type": "markdown",
   "metadata": {
    "colab_type": "text",
    "id": "1Q2RhZ5_Pskj"
   },
   "source": [
    "## ¿Cuándo se generan?\n",
    "Los sistemas computacionales suelen generar eventos llamados excepciones cuando ocurre una condición que **altera el flujo normal o esperado de un programa**, o alguna acción **no pudo ser ejecutada tal como se esperaba**.\n"
   ]
  },
  {
   "cell_type": "markdown",
   "metadata": {
    "colab_type": "text",
    "id": "Wq_a5tGUPskk"
   },
   "source": [
    "Existen muchos tipos, entre los cuales los más comunes son:\n"
   ]
  },
  {
   "cell_type": "markdown",
   "metadata": {
    "colab_type": "text",
    "id": "rJ8s3fOwSnPV"
   },
   "source": [
    "* **`SyntaxError`**\n",
    "* **`NameError`**\n",
    "* **`ZeroDivisionError`**\n",
    "* **`IndexError`**\n",
    "* **`TypeError`**\n",
    "* **`AttributeError`**\n",
    "* **`KeyError`**\n",
    "* **`ValueError`**\n"
   ]
  },
  {
   "cell_type": "markdown",
   "metadata": {
    "colab_type": "text",
    "id": "iBVJT6NhfORn"
   },
   "source": [
    "## Levantar Excepciones\n",
    "Podemos generar una excepción en el momento que queramos creando una nueva instancia de la excepción, y utilizando la sentencia **raise**.\n",
    "\n",
    "- Usualmente utilizamos *condiciones* que nos permiten saber donde levantar la excepción.\n",
    "- Se pueden usar dentro de funciones, clases, manejo de archivos.\n"
   ]
  },
  {
   "cell_type": "markdown",
   "metadata": {
    "colab_type": "text",
    "id": "aExMTpwWoDRj"
   },
   "source": [
    "## Manejar Excepciones - Try/Except\n",
    "Cada vez que se levanta una excepción, es posible **atraparla** mediante el uso de las sentencias try y except.\n",
    "\n",
    "Dentro del **try** se define un bloque de código, si una excepción se levanta dentro de él esta es atrapada en el **except**.\n",
    "\n",
    "En el momento que se captura una excepción dentro de try el flujo del programa **salta** inmediatamente al bloque de una de las sentencias except."
   ]
  },
  {
   "cell_type": "markdown",
   "metadata": {
    "colab_type": "text",
    "id": "w8MYYm3Qs7ck"
   },
   "source": [
    "Se pueden colocar múltiples sentencias **except**, también se puede complementar con las sentencias **else** y **finally**\n",
    "- ```else```: se ejecuta siempre y cuando no se haya lanzado **ninguna** excepción.\n",
    "- ```finally```: se ejecuta **siempre**, independiente de si se lanzó o no una excepción.\n",
    "\n",
    " "
   ]
  },
  {
   "cell_type": "markdown",
   "metadata": {
    "colab_type": "text",
    "id": "3nS7p-qGt1aI"
   },
   "source": [
    "## Excepciones propias\n",
    "Podemos crear nuestros propios tipos de excepciones, creando clases que hereden de `Exception`.\n",
    "También podemos modificar el comportamiento heredado sobreescribiendo los métodos de la clase madre:"
   ]
  },
  {
   "cell_type": "markdown",
   "metadata": {
    "colab_type": "text",
    "id": "QtZliEdDoMYy"
   },
   "source": [
    "## Ejercicio Propuesto 2.3: Manejo de excepciones múltiples\n"
   ]
  },
  {
   "cell_type": "markdown",
   "metadata": {
    "colab_type": "text",
    "id": "e1bOEpdxPskn"
   },
   "source": [
    "## **¡Actividad! 🎉**\n",
    "### Parte 1: Manejo de excepciones\n",
    "Recientemente, el DCC se ha enterado de que la conocida plataforma de videoconferencias, _Doom_ ,está presentando problemas de seguridad durante las reuniones que se hacen, vulnerabilizando a todos sus usuarios. Es por esto que han acudido a ti con la misión de verificar los _id_ de las reuniones.\n",
    "\n",
    "Para lograr esto, el DCC te ha facilitado la función incompleta `chequear_clase`, la cual deberás modificar de modo que lanze una excepción si se ingresa un _id_ de clase inválido. \n",
    "\n",
    "\n",
    "\n"
   ]
  },
  {
   "cell_type": "code",
   "execution_count": 0,
   "metadata": {
    "colab": {},
    "colab_type": "code",
    "id": "9q1QZxBozo-X"
   },
   "outputs": [],
   "source": [
    "def chequear_clase(id_, clases):\n",
    "    # Levantar excepción si corresponde\n",
    "    profesore = clases[id_][\"profesor\"]\n",
    "    sigla = clases[id_][\"sigla\"]\n",
    "    return f\"Estás liste para entrar a la clase {sigla} dictada por {profesore}\\n\""
   ]
  },
  {
   "cell_type": "markdown",
   "metadata": {},
   "source": [
    "Una vez completada la función, tendrás que manejar la excepción correctamente para notificar al estudiante de su error:"
   ]
  },
  {
   "cell_type": "code",
   "execution_count": null,
   "metadata": {},
   "outputs": [],
   "source": [
    "clases_activas = {\"747 498 2104\": {\"profesor\": \"Vicente Dominguez\", \"sigla\": \"IIC2233\"}, \n",
    "                 \"957 238 0301\": {\"profesor\": \"Huerthanos\", \"sigla\": \"MAT1630\"},\n",
    "                 \"030 345 6111\": {\"profesor\": \"David Torres\", \"sigla\": \"MAT1203\"},\n",
    "                 \"552 134 2293\": {\"profesor\": \"Ricardo Olea\", \"sigla\": \"EYP1113\"}\n",
    "                  }\n",
    "\n",
    "\n",
    "# Manejar excepciones\n",
    "print(chequear_clase(\"957 238 0301\", clases_activas))\n",
    "print(chequear_clase(\"111 666 5555\", clases_activas))\n",
    "print(chequear_clase(\"420 131 2000\", clases_activas))"
   ]
  },
  {
   "cell_type": "markdown",
   "metadata": {
    "colab_type": "text",
    "id": "5GsgQhlEzqFa"
   },
   "source": [
    "### Parte 2: Excepción Personalizada\n",
    "Una vez que lograste asegurar las videollamadas de _Doom_, te llegó una noticia inaceptable: hay estudiantes que en reiteradas ocasiones aprovechan de esconderse en el anonimato e insultar a los profesores o estudiantes. \n",
    "Decidiste tomar la iniciativa y con ayuda del DCC implementar un filtro de mensajes ofensivos que saque a los agresores de las salas correspondientes.\n",
    "\n",
    "Para lograr esto, te han entregado las clases `Alumno` y `Chat`, con una base de datos de los estudiantes y mensajes enviados hasta el momento por los usuarios. Deberás completar el error personalizado `ErrorMensajeOfensivo` de modo que al manejarlo imprimas los datos del estudiante autor del mensaje. \n",
    "\n",
    "\n",
    "\n",
    "\n"
   ]
  },
  {
   "cell_type": "code",
   "execution_count": 0,
   "metadata": {
    "colab": {},
    "colab_type": "code",
    "id": "rK1117pV2_Xu"
   },
   "outputs": [],
   "source": [
    "class Estudiante:\n",
    "    def __init__(self, nombre, usuario, numero_alumno):\n",
    "        self.nombre = nombre\n",
    "        self.usuario = usuario\n",
    "        self.numero_alumno = numero_alumno\n",
    "\n",
    "class ErrorMensajeOfensivo(Exception):\n",
    "    # Completar y modificar si es necesario\n",
    "    def __init__(self): \n",
    "        pass"
   ]
  },
  {
   "cell_type": "markdown",
   "metadata": {
    "colab_type": "text",
    "id": "KirZjYan5MAB"
   },
   "source": [
    "Luego tendrás que levantar esta excepción dentro del método `verificar_mensaje` de la clase `Chat` si el mensaje está dentro de la lista `ofensas`."
   ]
  },
  {
   "cell_type": "code",
   "execution_count": 0,
   "metadata": {
    "colab": {},
    "colab_type": "code",
    "id": "hE-3XtZN5N5a"
   },
   "outputs": [],
   "source": [
    "class Chat:\n",
    "    def __init__(self, estudiantes, profesor, sigla):\n",
    "        self.estudiantes = estudiantes\n",
    "        self.profesor = profesor\n",
    "        self.sigla = sigla\n",
    "         \n",
    "    def verificar_mensaje(self, estudiante, mensaje):\n",
    "        ofensas = [\"malo\", \">:(\", \"odio\", \"baka\"]\n",
    "        for palabra in ofensas:\n",
    "            # Levantar la excepción si corresponde\n",
    "            pass\n",
    "        print(f\"{estudiante.usuario}: {mensaje}\")  \n"
   ]
  },
  {
   "cell_type": "markdown",
   "metadata": {
    "colab_type": "text",
    "id": "eBXu4kXe58OS"
   },
   "source": [
    "Finalmente, deberás atrapar la excepción en caso de que se levante al usar el método `verificar_mensaje`. Te han entregado funciones para cargar mensajes y estudiantes para que puedas probar tu código."
   ]
  },
  {
   "cell_type": "code",
   "execution_count": 0,
   "metadata": {
    "colab": {},
    "colab_type": "code",
    "id": "hx3wVBP357Xl"
   },
   "outputs": [],
   "source": [
    "import os\n",
    "def cargar_estudiantes(ruta_estudiantes):\n",
    "    with open(ruta_estudiantes) as archivo:\n",
    "        estudiantes = {}\n",
    "        for linea in archivo:\n",
    "            linea = linea.strip().split(\",\")\n",
    "            estudiantes[linea[0]] = Estudiante(linea[0], linea[1], linea[2]))\n",
    "        return estudiantes\n",
    "\n",
    "def cargar_mensajes(ruta_mensajes):\n",
    "    with open(ruta_mensajes) as archivo:\n",
    "        mensajes = {}\n",
    "        for linea in archivo:\n",
    "            linea = linea.strip().split(\",\")\n",
    "            mensajes[linea[0]] = linea[1:]\n",
    "        return mensajes\n",
    "\n",
    "\n",
    "estudiantes = cargar_estudiantes(os.path.join(\"ejercicio\",\"estudiantes.csv\"))\n",
    "mensajes = cargar_mensajes(os.path.join(\"ejercicio\",\"mensajes.csv\"))\n",
    "chat = Chat(estudiantes, \"Profesor X\", \"IIC2233\")\n",
    "\n",
    "for i in mensajes:\n",
    "    try:\n",
    "        chat.verificar_mensaje(estudiantes[i], mensajes[i])\n",
    "    except: # Completar\n",
    "        pass\n"
   ]
  }
 ],
 "metadata": {
  "colab": {
   "collapsed_sections": [],
   "name": "AY04 Excepciones.ipynb",
   "provenance": [],
   "toc_visible": true
  },
  "kernelspec": {
   "display_name": "Python 3",
   "language": "python",
   "name": "python3"
  },
  "language_info": {
   "codemirror_mode": {
    "name": "ipython",
    "version": 3
   },
   "file_extension": ".py",
   "mimetype": "text/x-python",
   "name": "python",
   "nbconvert_exporter": "python",
   "pygments_lexer": "ipython3",
   "version": "3.6.9"
  }
 },
 "nbformat": 4,
 "nbformat_minor": 1
}
